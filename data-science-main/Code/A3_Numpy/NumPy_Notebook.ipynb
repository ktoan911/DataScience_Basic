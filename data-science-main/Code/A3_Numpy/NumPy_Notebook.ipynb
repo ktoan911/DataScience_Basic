{
 "cells": [
  {
   "cell_type": "markdown",
   "id": "4c9cddaf",
   "metadata": {},
   "source": [
    "<img src=\"https://user-images.githubusercontent.com/7065401/39118381-910eb0c2-46e9-11e8-81f1-a5b897401c23.jpeg\"\n",
    "    style=\"width:300px; float: right; margin: 0 40px 40px 40px;\"></img>\n",
    "\n",
    "# Numpy: Numeric computing library\n",
    "\n",
    "NumPy (Numerical Python) is one of the core packages for numerical computing in Python. Pandas, Matplotlib, Statmodels and many other Scientific libraries rely on NumPy.\n",
    "\n",
    "NumPy major contributions are:\n",
    "\n",
    "* Efficient numeric computation with C primitives\n",
    "* Efficient collections with vectorized operations\n",
    "* An integrated and natural Linear Algebra API\n",
    "* A C API for connecting NumPy with libraries written in C, C++, or FORTRAN.\n",
    "\n",
    "Let's develop on efficiency. In Python, **everything is an object**, which means that even simple ints are also objects, with all the required machinery to make object work. We call them \"Boxed Ints\". In contrast, NumPy uses primitive numeric types (floats, ints) which makes storing and computation efficient."
   ]
  },
  {
   "cell_type": "code",
   "execution_count": 23,
   "id": "5cfa5afe",
   "metadata": {},
   "outputs": [],
   "source": [
    "import numpy as np"
   ]
  },
  {
   "cell_type": "code",
   "execution_count": 24,
   "id": "69b6450b",
   "metadata": {},
   "outputs": [
    {
     "data": {
      "text/plain": [
       "array([1, 2, 3, 4])"
      ]
     },
     "execution_count": 24,
     "metadata": {},
     "output_type": "execute_result"
    }
   ],
   "source": [
    "np.array([1,2,3,4])"
   ]
  },
  {
   "cell_type": "code",
   "execution_count": 25,
   "id": "dffc5704",
   "metadata": {},
   "outputs": [
    {
     "data": {
      "text/plain": [
       "array([1.1, 2.2, 3. , 4. ])"
      ]
     },
     "execution_count": 25,
     "metadata": {},
     "output_type": "execute_result"
    }
   ],
   "source": [
    "np.array([1.1,2.2,3,4])\n"
   ]
  },
  {
   "cell_type": "markdown",
   "id": "50b2e64f",
   "metadata": {},
   "source": [
    "Numpy sẽ convert tất cả phần tử sang kiểu dữ liệu cao nhất có trong array"
   ]
  },
  {
   "cell_type": "code",
   "execution_count": 26,
   "id": "665ab2ba",
   "metadata": {},
   "outputs": [
    {
     "data": {
      "text/plain": [
       "array([1.1, 2.2, 3. , 4. ], dtype=float32)"
      ]
     },
     "execution_count": 26,
     "metadata": {},
     "output_type": "execute_result"
    }
   ],
   "source": [
    "np.array([1.1,2.2,3,4], dtype  = 'float32')"
   ]
  },
  {
   "cell_type": "code",
   "execution_count": 27,
   "id": "06a67c75",
   "metadata": {},
   "outputs": [
    {
     "data": {
      "text/plain": [
       "array([1, 2, 3, 4])"
      ]
     },
     "execution_count": 27,
     "metadata": {},
     "output_type": "execute_result"
    }
   ],
   "source": [
    "np.array([1.1,2.2,3,4], dtype  = 'int')"
   ]
  },
  {
   "cell_type": "code",
   "execution_count": 28,
   "id": "eb3310bf",
   "metadata": {},
   "outputs": [],
   "source": [
    "X = np.array([1.1,2.2,3,4])"
   ]
  },
  {
   "cell_type": "code",
   "execution_count": 29,
   "id": "d6f23014",
   "metadata": {},
   "outputs": [
    {
     "data": {
      "text/plain": [
       "numpy.ndarray"
      ]
     },
     "execution_count": 29,
     "metadata": {},
     "output_type": "execute_result"
    }
   ],
   "source": [
    "type(X)"
   ]
  },
  {
   "cell_type": "code",
   "execution_count": 30,
   "id": "9337fb62",
   "metadata": {},
   "outputs": [
    {
     "data": {
      "text/plain": [
       "(4,)"
      ]
     },
     "execution_count": 30,
     "metadata": {},
     "output_type": "execute_result"
    }
   ],
   "source": [
    "X.shape"
   ]
  },
  {
   "cell_type": "code",
   "execution_count": 31,
   "id": "4c045a5d",
   "metadata": {},
   "outputs": [
    {
     "data": {
      "text/plain": [
       "1"
      ]
     },
     "execution_count": 31,
     "metadata": {},
     "output_type": "execute_result"
    }
   ],
   "source": [
    "X.ndim"
   ]
  },
  {
   "cell_type": "raw",
   "id": "21210ab9",
   "metadata": {},
   "source": [
    "Số chiều của mảng"
   ]
  },
  {
   "cell_type": "code",
   "execution_count": 32,
   "id": "c80b2907",
   "metadata": {},
   "outputs": [
    {
     "data": {
      "text/plain": [
       "dtype('float64')"
      ]
     },
     "execution_count": 32,
     "metadata": {},
     "output_type": "execute_result"
    }
   ],
   "source": [
    "X.dtype"
   ]
  },
  {
   "cell_type": "markdown",
   "id": "53bd0db1",
   "metadata": {},
   "source": [
    "# Creating Numpy Array from Scratch"
   ]
  },
  {
   "cell_type": "raw",
   "id": "3d3cbef9",
   "metadata": {},
   "source": [
    "###zeros, ###ones, ###full, ###arange, ###linspace"
   ]
  },
  {
   "cell_type": "code",
   "execution_count": 33,
   "id": "8bf5ae65",
   "metadata": {},
   "outputs": [
    {
     "data": {
      "text/plain": [
       "array([[0., 0., 0., 0.],\n",
       "       [0., 0., 0., 0.]])"
      ]
     },
     "execution_count": 33,
     "metadata": {},
     "output_type": "execute_result"
    }
   ],
   "source": [
    "np.zeros([2,4])"
   ]
  },
  {
   "cell_type": "raw",
   "id": "06bb885b",
   "metadata": {},
   "source": [
    "shape có thể truyền vào tupple hoặc list hoặc 1 số cái khác =))))\n",
    "kiểu dữ liệu mặc định khi tạo là float"
   ]
  },
  {
   "cell_type": "code",
   "execution_count": 35,
   "id": "95853ae3",
   "metadata": {},
   "outputs": [
    {
     "data": {
      "text/plain": [
       "array([[1., 1., 1., 1.],\n",
       "       [1., 1., 1., 1.]])"
      ]
     },
     "execution_count": 35,
     "metadata": {},
     "output_type": "execute_result"
    }
   ],
   "source": [
    "np.ones([2,4])"
   ]
  },
  {
   "cell_type": "code",
   "execution_count": 37,
   "id": "ed40b133",
   "metadata": {},
   "outputs": [
    {
     "data": {
      "text/plain": [
       "array([ 0,  2,  4,  6,  8, 10, 12, 14, 16, 18, 20])"
      ]
     },
     "execution_count": 37,
     "metadata": {},
     "output_type": "execute_result"
    }
   ],
   "source": [
    "#Tạo 1 mảng range từ 0 , 20 với step = 2\n",
    "np.arange(0, 21,2)"
   ]
  },
  {
   "cell_type": "code",
   "execution_count": 38,
   "id": "017a1042",
   "metadata": {},
   "outputs": [
    {
     "data": {
      "text/plain": [
       "array([[9, 9, 9],\n",
       "       [9, 9, 9]])"
      ]
     },
     "execution_count": 38,
     "metadata": {},
     "output_type": "execute_result"
    }
   ],
   "source": [
    "np.full([2,3],9)"
   ]
  },
  {
   "cell_type": "raw",
   "id": "cdceecdc",
   "metadata": {},
   "source": [
    "mặc định kiểu dữ liệu là int"
   ]
  },
  {
   "cell_type": "code",
   "execution_count": 39,
   "id": "0def5fa8",
   "metadata": {},
   "outputs": [
    {
     "data": {
      "text/plain": [
       "array([0.  , 0.25, 0.5 , 0.75, 1.  ])"
      ]
     },
     "execution_count": 39,
     "metadata": {},
     "output_type": "execute_result"
    }
   ],
   "source": [
    "#tạo array có các khoảng cách nhau đoạn tuyến tính ( linear space)\n",
    "np.linspace(0, 1, 5)"
   ]
  },
  {
   "cell_type": "raw",
   "id": "038bdab2",
   "metadata": {},
   "source": [
    "chia 5 đoạn từ 0 đến 1"
   ]
  },
  {
   "cell_type": "markdown",
   "id": "1642a46e",
   "metadata": {},
   "source": [
    "# Random"
   ]
  },
  {
   "cell_type": "code",
   "execution_count": 42,
   "id": "f1c4ae45",
   "metadata": {},
   "outputs": [
    {
     "data": {
      "text/plain": [
       "array([[0.61236576, 0.67676693, 0.07651314, 0.03726531],\n",
       "       [0.51571521, 0.16289978, 0.24708676, 0.55355786],\n",
       "       [0.50115584, 0.00323359, 0.85327592, 0.59310443],\n",
       "       [0.6660369 , 0.22428733, 0.55796987, 0.41217831]])"
      ]
     },
     "execution_count": 42,
     "metadata": {},
     "output_type": "execute_result"
    }
   ],
   "source": [
    "np.random.random((4,4))"
   ]
  },
  {
   "cell_type": "raw",
   "id": "ff6a460f",
   "metadata": {},
   "source": [
    "mặc định sẽ return 1 array các phần tử từ 0 đến 1"
   ]
  },
  {
   "cell_type": "code",
   "execution_count": 45,
   "id": "5c0c775e",
   "metadata": {},
   "outputs": [
    {
     "data": {
      "text/plain": [
       "array([[0.5488135 , 0.71518937, 0.60276338, 0.54488318],\n",
       "       [0.4236548 , 0.64589411, 0.43758721, 0.891773  ],\n",
       "       [0.96366276, 0.38344152, 0.79172504, 0.52889492],\n",
       "       [0.56804456, 0.92559664, 0.07103606, 0.0871293 ]])"
      ]
     },
     "execution_count": 45,
     "metadata": {},
     "output_type": "execute_result"
    }
   ],
   "source": [
    "#Seed for reproducibility\n",
    "#muốn chạy random bao nhiêu lần thì nó đều ra kết quả như giá trị chạy đầu tiên\n",
    "np.random.seed(0)\n",
    "np.random.random((4,4))"
   ]
  },
  {
   "cell_type": "code",
   "execution_count": 48,
   "id": "176844b2",
   "metadata": {},
   "outputs": [
    {
     "data": {
      "text/plain": [
       "array([[ 0.44386323,  0.33367433,  1.49407907],\n",
       "       [-0.20515826,  0.3130677 , -0.85409574],\n",
       "       [-2.55298982,  0.6536186 ,  0.8644362 ]])"
      ]
     },
     "execution_count": 48,
     "metadata": {},
     "output_type": "execute_result"
    }
   ],
   "source": [
    "np.random.normal(0,1, (3,3))"
   ]
  },
  {
   "cell_type": "raw",
   "id": "eb8a4edc",
   "metadata": {},
   "source": [
    "Hàm np.random.normal() là một phần của thư viện NumPy trong Python và được sử dụng để tạo ra các mẫu ngẫu nhiên từ phân phối chuẩn (phân phối Gaussian). Phân phối chuẩn được đặc trưng bởi đường cong hình chuông và hoàn toàn được xác định bởi giá trị trung bình và độ lệch chuẩn.\n",
    "\n",
    "###numpy.random.normal(loc=0.0, scale=1.0, size=None)\n",
    "\n",
    "+ loc: Trung bình của phân phối (điểm trung tâm của đường cong hình chuông).\n",
    "+ scale: Độ lệch chuẩn của phân phối (độ rộng của đường cong hình chuông).\n",
    "+ size: Kích thước của mẫu cần tạo ra. Nếu không được chỉ định, một giá trị duy nhất sẽ được tạo ra."
   ]
  },
  {
   "cell_type": "code",
   "execution_count": 53,
   "id": "13ec6718",
   "metadata": {},
   "outputs": [
    {
     "data": {
      "text/plain": [
       "array([[3, 3, 3, 3, 3],\n",
       "       [3, 3, 3, 3, 3],\n",
       "       [3, 3, 3, 3, 3],\n",
       "       [3, 3, 3, 3, 3]])"
      ]
     },
     "execution_count": 53,
     "metadata": {},
     "output_type": "execute_result"
    }
   ],
   "source": [
    "np.random.randint(3,4, (4,5))"
   ]
  },
  {
   "cell_type": "raw",
   "id": "7423607c",
   "metadata": {},
   "source": [
    "Bao gồm các số từ a đến b - 1"
   ]
  },
  {
   "cell_type": "code",
   "execution_count": 54,
   "id": "c6a8e6b0",
   "metadata": {},
   "outputs": [
    {
     "data": {
      "text/plain": [
       "array([[[0.45615033, 0.56843395, 0.0187898 , 0.6176355 , 0.61209572],\n",
       "        [0.616934  , 0.94374808, 0.6818203 , 0.3595079 , 0.43703195],\n",
       "        [0.6976312 , 0.06022547, 0.66676672, 0.67063787, 0.21038256],\n",
       "        [0.1289263 , 0.31542835, 0.36371077, 0.57019677, 0.43860151]],\n",
       "\n",
       "       [[0.98837384, 0.10204481, 0.20887676, 0.16130952, 0.65310833],\n",
       "        [0.2532916 , 0.46631077, 0.24442559, 0.15896958, 0.11037514],\n",
       "        [0.65632959, 0.13818295, 0.19658236, 0.36872517, 0.82099323],\n",
       "        [0.09710128, 0.83794491, 0.09609841, 0.97645947, 0.4686512 ]],\n",
       "\n",
       "       [[0.97676109, 0.60484552, 0.73926358, 0.03918779, 0.28280696],\n",
       "        [0.12019656, 0.2961402 , 0.11872772, 0.31798318, 0.41426299],\n",
       "        [0.0641475 , 0.69247212, 0.56660145, 0.26538949, 0.52324805],\n",
       "        [0.09394051, 0.5759465 , 0.9292962 , 0.31856895, 0.66741038]]])"
      ]
     },
     "execution_count": 54,
     "metadata": {},
     "output_type": "execute_result"
    }
   ],
   "source": [
    "np.random.rand(3,4,5)"
   ]
  },
  {
   "cell_type": "raw",
   "id": "6b5e5c0b",
   "metadata": {},
   "source": [
    "random theo từ 0 đến 1\n",
    "chới theo hệ tensow "
   ]
  },
  {
   "cell_type": "markdown",
   "id": "af5e2d08",
   "metadata": {},
   "source": [
    "# Array index and Slicing"
   ]
  },
  {
   "cell_type": "markdown",
   "id": "6dc1b9a6",
   "metadata": {},
   "source": [
    "## One-dimensional subarray"
   ]
  },
  {
   "cell_type": "code",
   "execution_count": 56,
   "id": "43bf0f28",
   "metadata": {},
   "outputs": [],
   "source": [
    "X1 = np.random.randint(20,size = 6)"
   ]
  },
  {
   "cell_type": "code",
   "execution_count": 57,
   "id": "c3586703",
   "metadata": {},
   "outputs": [
    {
     "data": {
      "text/plain": [
       "array([19, 16,  0,  0,  6, 19])"
      ]
     },
     "execution_count": 57,
     "metadata": {},
     "output_type": "execute_result"
    }
   ],
   "source": [
    "X1"
   ]
  },
  {
   "cell_type": "code",
   "execution_count": 58,
   "id": "1cf36b4f",
   "metadata": {},
   "outputs": [
    {
     "data": {
      "text/plain": [
       "6"
      ]
     },
     "execution_count": 58,
     "metadata": {},
     "output_type": "execute_result"
    }
   ],
   "source": [
    "X1[4]"
   ]
  },
  {
   "cell_type": "code",
   "execution_count": 59,
   "id": "8905e306",
   "metadata": {},
   "outputs": [
    {
     "data": {
      "text/plain": [
       "array([19, 16,  0,  0,  6])"
      ]
     },
     "execution_count": 59,
     "metadata": {},
     "output_type": "execute_result"
    }
   ],
   "source": [
    "X1[:-1]"
   ]
  },
  {
   "cell_type": "markdown",
   "id": "6b2ee289",
   "metadata": {},
   "source": [
    "## Multi-dimension array"
   ]
  },
  {
   "cell_type": "code",
   "execution_count": 65,
   "id": "8532f0cb",
   "metadata": {},
   "outputs": [],
   "source": [
    "X2 = np.random.randint(10, size = (2,3))"
   ]
  },
  {
   "cell_type": "code",
   "execution_count": 66,
   "id": "a7153605",
   "metadata": {},
   "outputs": [
    {
     "data": {
      "text/plain": [
       "array([[8, 8, 3],\n",
       "       [8, 2, 8]])"
      ]
     },
     "execution_count": 66,
     "metadata": {},
     "output_type": "execute_result"
    }
   ],
   "source": [
    "X2"
   ]
  },
  {
   "cell_type": "markdown",
   "id": "a169cb25",
   "metadata": {},
   "source": [
    "## Slicing"
   ]
  },
  {
   "cell_type": "markdown",
   "id": "f8437c2d",
   "metadata": {},
   "source": [
    "#### X[start:stop:step]"
   ]
  },
  {
   "cell_type": "code",
   "execution_count": 69,
   "id": "2c73df9e",
   "metadata": {},
   "outputs": [
    {
     "data": {
      "text/plain": [
       "array([[8, 8, 3]])"
      ]
     },
     "execution_count": 69,
     "metadata": {},
     "output_type": "execute_result"
    }
   ],
   "source": [
    "X2[0:1]"
   ]
  },
  {
   "cell_type": "raw",
   "id": "4950f93c",
   "metadata": {},
   "source": [
    "Tương đương với : X2[0]"
   ]
  },
  {
   "cell_type": "code",
   "execution_count": 86,
   "id": "e4dd7213",
   "metadata": {},
   "outputs": [
    {
     "data": {
      "text/plain": [
       "array([[8, 8]])"
      ]
     },
     "execution_count": 86,
     "metadata": {},
     "output_type": "execute_result"
    }
   ],
   "source": [
    "X2[0:1, 0:2]"
   ]
  },
  {
   "cell_type": "code",
   "execution_count": 89,
   "id": "88bd2961",
   "metadata": {},
   "outputs": [
    {
     "data": {
      "text/plain": [
       "array([[8, 8],\n",
       "       [8, 2]])"
      ]
     },
     "execution_count": 89,
     "metadata": {},
     "output_type": "execute_result"
    }
   ],
   "source": [
    "X2[:2, :2]"
   ]
  },
  {
   "cell_type": "raw",
   "id": "ce3a8593",
   "metadata": {},
   "source": [
    "=> KẾT LUẬN : X2[a:b, c: d] -> lấy từ hàng a đến b - 1, cột c đến cột d - 1"
   ]
  },
  {
   "cell_type": "code",
   "execution_count": 81,
   "id": "dd0e39ff",
   "metadata": {},
   "outputs": [],
   "source": [
    "X1 = np.array([1,3,4,52,4])\n"
   ]
  },
  {
   "cell_type": "code",
   "execution_count": 84,
   "id": "4becc7fe",
   "metadata": {},
   "outputs": [
    {
     "data": {
      "text/plain": [
       "array([ 4, 52,  4])"
      ]
     },
     "execution_count": 84,
     "metadata": {},
     "output_type": "execute_result"
    }
   ],
   "source": [
    "X1[2 : 6]"
   ]
  },
  {
   "cell_type": "code",
   "execution_count": 85,
   "id": "717053c2",
   "metadata": {},
   "outputs": [
    {
     "data": {
      "text/plain": [
       "array([1, 4, 4])"
      ]
     },
     "execution_count": 85,
     "metadata": {},
     "output_type": "execute_result"
    }
   ],
   "source": [
    "X1[::2]"
   ]
  },
  {
   "cell_type": "markdown",
   "id": "d097462f",
   "metadata": {},
   "source": [
    "## Reshaping of Array and Transpose"
   ]
  },
  {
   "cell_type": "code",
   "execution_count": 96,
   "id": "72aab7c2",
   "metadata": {},
   "outputs": [
    {
     "data": {
      "text/plain": [
       "(9,)"
      ]
     },
     "execution_count": 96,
     "metadata": {},
     "output_type": "execute_result"
    }
   ],
   "source": [
    "grid = np.arange(1,10)\n",
    "\n",
    "grid.shape"
   ]
  },
  {
   "cell_type": "code",
   "execution_count": 92,
   "id": "66140d12",
   "metadata": {},
   "outputs": [
    {
     "data": {
      "text/plain": [
       "array([[1, 2, 3],\n",
       "       [4, 5, 6],\n",
       "       [7, 8, 9]])"
      ]
     },
     "execution_count": 92,
     "metadata": {},
     "output_type": "execute_result"
    }
   ],
   "source": [
    "grid.reshape((3,3))"
   ]
  },
  {
   "cell_type": "code",
   "execution_count": 97,
   "id": "2d551418",
   "metadata": {},
   "outputs": [
    {
     "data": {
      "text/plain": [
       "array([[1, 4, 7],\n",
       "       [2, 5, 8],\n",
       "       [3, 6, 9]])"
      ]
     },
     "execution_count": 97,
     "metadata": {},
     "output_type": "execute_result"
    }
   ],
   "source": [
    "grid.reshape((3,3)).T"
   ]
  },
  {
   "cell_type": "markdown",
   "id": "79776e82",
   "metadata": {},
   "source": [
    "## Array Concantenation and Splitting"
   ]
  },
  {
   "cell_type": "markdown",
   "id": "8ba51d85",
   "metadata": {},
   "source": [
    "### Concantenation"
   ]
  },
  {
   "cell_type": "code",
   "execution_count": 99,
   "id": "ea39a324",
   "metadata": {},
   "outputs": [],
   "source": [
    "x = np.array([1,2,3])\n",
    "y = np.array([3,2,1])"
   ]
  },
  {
   "cell_type": "code",
   "execution_count": 102,
   "id": "1fe325f0",
   "metadata": {},
   "outputs": [
    {
     "data": {
      "text/plain": [
       "array([1, 2, 3, 3, 2, 1])"
      ]
     },
     "execution_count": 102,
     "metadata": {},
     "output_type": "execute_result"
    }
   ],
   "source": [
    "np.concatenate((x,y), axis = 0)"
   ]
  },
  {
   "cell_type": "raw",
   "id": "6d93df15",
   "metadata": {},
   "source": [
    "axis là nối theo chiều nào , 0 là chiều thứ 1 , ..."
   ]
  },
  {
   "cell_type": "code",
   "execution_count": 120,
   "id": "fb341bec",
   "metadata": {},
   "outputs": [],
   "source": [
    "x = np.random.randint(5,size = (3,3))\n",
    "y = np.random.randint(5,size = (3,3))"
   ]
  },
  {
   "cell_type": "code",
   "execution_count": 132,
   "id": "492fcf91",
   "metadata": {},
   "outputs": [
    {
     "data": {
      "text/plain": [
       "array([[3, 1, 4],\n",
       "       [2, 2, 0],\n",
       "       [1, 0, 4]])"
      ]
     },
     "execution_count": 132,
     "metadata": {},
     "output_type": "execute_result"
    }
   ],
   "source": [
    "x"
   ]
  },
  {
   "cell_type": "code",
   "execution_count": 133,
   "id": "e26573a4",
   "metadata": {},
   "outputs": [
    {
     "data": {
      "text/plain": [
       "array([[0, 3, 2],\n",
       "       [0, 0, 1],\n",
       "       [1, 0, 3]])"
      ]
     },
     "execution_count": 133,
     "metadata": {},
     "output_type": "execute_result"
    }
   ],
   "source": [
    "y"
   ]
  },
  {
   "cell_type": "code",
   "execution_count": 129,
   "id": "6d1e4e37",
   "metadata": {},
   "outputs": [
    {
     "data": {
      "text/plain": [
       "array([[3, 1, 4],\n",
       "       [2, 2, 0],\n",
       "       [1, 0, 4],\n",
       "       [0, 3, 2],\n",
       "       [0, 0, 1],\n",
       "       [1, 0, 3]])"
      ]
     },
     "execution_count": 129,
     "metadata": {},
     "output_type": "execute_result"
    }
   ],
   "source": [
    "np.concatenate((x,y), axis = 0)"
   ]
  },
  {
   "cell_type": "code",
   "execution_count": 124,
   "id": "2c8af01e",
   "metadata": {},
   "outputs": [
    {
     "data": {
      "text/plain": [
       "(6, 3)"
      ]
     },
     "execution_count": 124,
     "metadata": {},
     "output_type": "execute_result"
    }
   ],
   "source": [
    "np.concatenate((x,y), axis = 0).shape"
   ]
  },
  {
   "cell_type": "code",
   "execution_count": 130,
   "id": "b42ccafb",
   "metadata": {},
   "outputs": [
    {
     "data": {
      "text/plain": [
       "array([[3, 1, 4, 0, 3, 2],\n",
       "       [2, 2, 0, 0, 0, 1],\n",
       "       [1, 0, 4, 1, 0, 3]])"
      ]
     },
     "execution_count": 130,
     "metadata": {},
     "output_type": "execute_result"
    }
   ],
   "source": [
    "np.concatenate((x,y), axis = 1)"
   ]
  },
  {
   "cell_type": "code",
   "execution_count": 125,
   "id": "55cd5c31",
   "metadata": {},
   "outputs": [
    {
     "data": {
      "text/plain": [
       "(3, 6)"
      ]
     },
     "execution_count": 125,
     "metadata": {},
     "output_type": "execute_result"
    }
   ],
   "source": [
    "np.concatenate((x,y), axis = 1).shape"
   ]
  },
  {
   "cell_type": "raw",
   "id": "4fe4b8fa",
   "metadata": {},
   "source": [
    " KẾT LUẬN : chiều thứ nhất là nối theo hàng, chiều 2 là cột, chiều 3 là tensow ....."
   ]
  },
  {
   "cell_type": "code",
   "execution_count": 136,
   "id": "5f75e90e",
   "metadata": {},
   "outputs": [],
   "source": [
    "#vstack ( vertical stack)\n",
    "#Nối theo chiều ngang ( thêm hàng)\n",
    "x = np.array([1,2,3])\n",
    "y = np.array([[0, 3, 2],\n",
    "       [0, 0, 1],\n",
    "       [1, 0, 3]])"
   ]
  },
  {
   "cell_type": "code",
   "execution_count": 138,
   "id": "a01e07ee",
   "metadata": {},
   "outputs": [
    {
     "data": {
      "text/plain": [
       "array([[1, 2, 3],\n",
       "       [0, 3, 2],\n",
       "       [0, 0, 1],\n",
       "       [1, 0, 3]])"
      ]
     },
     "execution_count": 138,
     "metadata": {},
     "output_type": "execute_result"
    }
   ],
   "source": [
    "np.vstack((x,y))"
   ]
  },
  {
   "cell_type": "code",
   "execution_count": 143,
   "id": "5f8e1bff",
   "metadata": {},
   "outputs": [
    {
     "data": {
      "text/plain": [
       "array([1, 2, 3, 0, 3, 2])"
      ]
     },
     "execution_count": 143,
     "metadata": {},
     "output_type": "execute_result"
    }
   ],
   "source": [
    "#hstack(horixontal stack)\n",
    "#nối theo chiều dọc ( thêm dòng)\n",
    "y = np.array([0, 3, 2],\n",
    "       )\n",
    "np.hstack((x,y))"
   ]
  },
  {
   "cell_type": "markdown",
   "id": "66a4fec7",
   "metadata": {},
   "source": [
    "### Splitting array"
   ]
  },
  {
   "cell_type": "code",
   "execution_count": 144,
   "id": "13010895",
   "metadata": {},
   "outputs": [],
   "source": [
    "x = np.array([1,2,3,4,21,42])"
   ]
  },
  {
   "cell_type": "code",
   "execution_count": 145,
   "id": "d9a3320e",
   "metadata": {},
   "outputs": [
    {
     "data": {
      "text/plain": [
       "[array([1, 2, 3]), array([ 4, 21]), array([42])]"
      ]
     },
     "execution_count": 145,
     "metadata": {},
     "output_type": "execute_result"
    }
   ],
   "source": [
    "np.split(x, [3,5])"
   ]
  },
  {
   "cell_type": "raw",
   "id": "c4e0ecd7",
   "metadata": {},
   "source": [
    "Chia array thành 3 khoảng 0 đến 2, 3 đến 4, 5 đến -1"
   ]
  },
  {
   "cell_type": "code",
   "execution_count": 146,
   "id": "be9a057a",
   "metadata": {},
   "outputs": [],
   "source": [
    "x1,x2,x3 = np.split(x, [3,5])"
   ]
  },
  {
   "cell_type": "raw",
   "id": "8f7af1aa",
   "metadata": {},
   "source": [
    "Có thể gán bằng cách đóng gói trong python"
   ]
  },
  {
   "cell_type": "markdown",
   "id": "fa55843a",
   "metadata": {},
   "source": [
    "# Broadcasting and Vectorize operations"
   ]
  },
  {
   "cell_type": "markdown",
   "id": "dbe55804",
   "metadata": {},
   "source": [
    "### Broadcasting is simply a set of rules for applying binary ufuncs (e.g., addition, subtraction, multiplication, etc.) on arrays of different sizes.\n",
    "\n",
    "![image-broadcasting](https://jakevdp.github.io/PythonDataScienceHandbook/figures/02.05-broadcasting.png)"
   ]
  },
  {
   "cell_type": "markdown",
   "id": "c3a078c8",
   "metadata": {},
   "source": [
    "### Dễ hiểu hơn là numpy sẽ nhân bản các phần tử sao cho 2 ma trận sẽ có cùng chiều hoặc có số chiều phù hợp để thực hiện các phép tính"
   ]
  },
  {
   "cell_type": "code",
   "execution_count": 147,
   "id": "7333500b",
   "metadata": {},
   "outputs": [],
   "source": [
    "a = np.arange(3)"
   ]
  },
  {
   "cell_type": "code",
   "execution_count": 148,
   "id": "c889f0fd",
   "metadata": {},
   "outputs": [
    {
     "data": {
      "text/plain": [
       "array([0, 1, 2])"
      ]
     },
     "execution_count": 148,
     "metadata": {},
     "output_type": "execute_result"
    }
   ],
   "source": [
    "a"
   ]
  },
  {
   "cell_type": "code",
   "execution_count": 149,
   "id": "06ea9a3c",
   "metadata": {},
   "outputs": [
    {
     "data": {
      "text/plain": [
       "array([5, 6, 7])"
      ]
     },
     "execution_count": 149,
     "metadata": {},
     "output_type": "execute_result"
    }
   ],
   "source": [
    "a + 5"
   ]
  },
  {
   "cell_type": "raw",
   "id": "41403f47",
   "metadata": {},
   "source": [
    "Cộng tất cả các phần tử với 5"
   ]
  },
  {
   "cell_type": "code",
   "execution_count": 150,
   "id": "d5a1c2a2",
   "metadata": {},
   "outputs": [
    {
     "data": {
      "text/plain": [
       "array([[1., 1., 1.],\n",
       "       [1., 1., 1.],\n",
       "       [1., 1., 1.]])"
      ]
     },
     "execution_count": 150,
     "metadata": {},
     "output_type": "execute_result"
    }
   ],
   "source": [
    "b = np.ones((3,3))\n",
    "b"
   ]
  },
  {
   "cell_type": "code",
   "execution_count": 151,
   "id": "52d3c8d7",
   "metadata": {},
   "outputs": [
    {
     "data": {
      "text/plain": [
       "array([[1., 2., 3.],\n",
       "       [1., 2., 3.],\n",
       "       [1., 2., 3.]])"
      ]
     },
     "execution_count": 151,
     "metadata": {},
     "output_type": "execute_result"
    }
   ],
   "source": [
    "a + b"
   ]
  },
  {
   "cell_type": "raw",
   "id": "4287239d",
   "metadata": {},
   "source": [
    "Cộng mỗi hàng của b với a"
   ]
  },
  {
   "cell_type": "code",
   "execution_count": null,
   "id": "873c966c",
   "metadata": {},
   "outputs": [],
   "source": []
  }
 ],
 "metadata": {
  "kernelspec": {
   "display_name": "Python 3 (ipykernel)",
   "language": "python",
   "name": "python3"
  },
  "language_info": {
   "codemirror_mode": {
    "name": "ipython",
    "version": 3
   },
   "file_extension": ".py",
   "mimetype": "text/x-python",
   "name": "python",
   "nbconvert_exporter": "python",
   "pygments_lexer": "ipython3",
   "version": "3.11.5"
  }
 },
 "nbformat": 4,
 "nbformat_minor": 5
}
