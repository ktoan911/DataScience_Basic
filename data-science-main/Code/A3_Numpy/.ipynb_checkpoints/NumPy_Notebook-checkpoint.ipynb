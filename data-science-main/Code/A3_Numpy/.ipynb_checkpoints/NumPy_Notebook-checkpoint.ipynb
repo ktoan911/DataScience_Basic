{
 "cells": [
  {
   "cell_type": "markdown",
   "id": "4c9cddaf",
   "metadata": {},
   "source": [
    "<img src=\"https://user-images.githubusercontent.com/7065401/39118381-910eb0c2-46e9-11e8-81f1-a5b897401c23.jpeg\"\n",
    "    style=\"width:300px; float: right; margin: 0 40px 40px 40px;\"></img>\n",
    "\n",
    "# Numpy: Numeric computing library\n",
    "\n",
    "NumPy (Numerical Python) is one of the core packages for numerical computing in Python. Pandas, Matplotlib, Statmodels and many other Scientific libraries rely on NumPy.\n",
    "\n",
    "NumPy major contributions are:\n",
    "\n",
    "* Efficient numeric computation with C primitives\n",
    "* Efficient collections with vectorized operations\n",
    "* An integrated and natural Linear Algebra API\n",
    "* A C API for connecting NumPy with libraries written in C, C++, or FORTRAN.\n",
    "\n",
    "Let's develop on efficiency. In Python, **everything is an object**, which means that even simple ints are also objects, with all the required machinery to make object work. We call them \"Boxed Ints\". In contrast, NumPy uses primitive numeric types (floats, ints) which makes storing and computation efficient."
   ]
  },
  {
   "cell_type": "code",
   "execution_count": 236,
   "id": "5cfa5afe",
   "metadata": {},
   "outputs": [],
   "source": [
    "import numpy as np"
   ]
  },
  {
   "cell_type": "code",
   "execution_count": 237,
   "id": "69b6450b",
   "metadata": {},
   "outputs": [
    {
     "data": {
      "text/plain": [
       "array([1, 2, 3, 4])"
      ]
     },
     "execution_count": 237,
     "metadata": {},
     "output_type": "execute_result"
    }
   ],
   "source": [
    "np.array([1,2,3,4])"
   ]
  },
  {
   "cell_type": "code",
   "execution_count": 238,
   "id": "dffc5704",
   "metadata": {},
   "outputs": [
    {
     "data": {
      "text/plain": [
       "array([1.1, 2.2, 3. , 4. ])"
      ]
     },
     "execution_count": 238,
     "metadata": {},
     "output_type": "execute_result"
    }
   ],
   "source": [
    "np.array([1.1,2.2,3,4])\n"
   ]
  },
  {
   "cell_type": "markdown",
   "id": "50b2e64f",
   "metadata": {},
   "source": [
    "Numpy sẽ convert tất cả phần tử sang kiểu dữ liệu cao nhất có trong array"
   ]
  },
  {
   "cell_type": "code",
   "execution_count": 239,
   "id": "665ab2ba",
   "metadata": {},
   "outputs": [
    {
     "data": {
      "text/plain": [
       "array([1.1, 2.2, 3. , 4. ], dtype=float32)"
      ]
     },
     "execution_count": 239,
     "metadata": {},
     "output_type": "execute_result"
    },
    {
     "data": {
      "text/plain": [
       "array([1.1, 2.2, 3. , 4. ], dtype=float32)"
      ]
     },
     "execution_count": 239,
     "metadata": {},
     "output_type": "execute_result"
    }
   ],
   "source": [
    "np.array([1.1,2.2,3,4], dtype  = 'float32')"
   ]
  },
  {
   "cell_type": "code",
   "execution_count": null,
   "id": "06a67c75",
   "metadata": {},
   "outputs": [],
   "source": [
    "np.array([1.1,2.2,3,4], dtype  = 'int')"
   ]
  },
  {
   "cell_type": "code",
   "execution_count": null,
   "id": "eb3310bf",
   "metadata": {},
   "outputs": [],
   "source": [
    "X = np.array([1.1,2.2,3,4])"
   ]
  },
  {
   "cell_type": "code",
   "execution_count": 242,
   "id": "d6f23014",
   "metadata": {},
   "outputs": [
    {
     "data": {
      "text/plain": [
       "numpy.ndarray"
      ]
     },
     "execution_count": 242,
     "metadata": {},
     "output_type": "execute_result"
    }
   ],
   "source": [
    "type(X)"
   ]
  },
  {
   "cell_type": "code",
   "execution_count": 243,
   "id": "9337fb62",
   "metadata": {},
   "outputs": [
    {
     "data": {
      "text/plain": [
       "(4,)"
      ]
     },
     "execution_count": 243,
     "metadata": {},
     "output_type": "execute_result"
    }
   ],
   "source": [
    "X.shape"
   ]
  },
  {
   "cell_type": "code",
   "execution_count": 244,
   "id": "4c045a5d",
   "metadata": {},
   "outputs": [
    {
     "data": {
      "text/plain": [
       "1"
      ]
     },
     "execution_count": 244,
     "metadata": {},
     "output_type": "execute_result"
    }
   ],
   "source": [
    "X.ndim"
   ]
  },
  {
   "cell_type": "raw",
   "id": "21210ab9",
   "metadata": {},
   "source": [
    "Số chiều của mảng"
   ]
  },
  {
   "cell_type": "code",
   "execution_count": 245,
   "id": "c80b2907",
   "metadata": {},
   "outputs": [
    {
     "data": {
      "text/plain": [
       "dtype('float64')"
      ]
     },
     "execution_count": 245,
     "metadata": {},
     "output_type": "execute_result"
    }
   ],
   "source": [
    "X.dtype"
   ]
  },
  {
   "cell_type": "markdown",
   "id": "53bd0db1",
   "metadata": {},
   "source": [
    "# Creating Numpy Array from Scratch"
   ]
  },
  {
   "cell_type": "raw",
   "id": "3d3cbef9",
   "metadata": {},
   "source": [
    "###zeros, ###ones, ###full, ###arange, ###linspace"
   ]
  },
  {
   "cell_type": "code",
   "execution_count": 246,
   "id": "8bf5ae65",
   "metadata": {},
   "outputs": [
    {
     "data": {
      "text/plain": [
       "array([[0., 0., 0., 0.],\n",
       "       [0., 0., 0., 0.]])"
      ]
     },
     "execution_count": 246,
     "metadata": {},
     "output_type": "execute_result"
    }
   ],
   "source": [
    "np.zeros([2,4])"
   ]
  },
  {
   "cell_type": "raw",
   "id": "06bb885b",
   "metadata": {},
   "source": [
    "shape có thể truyền vào tupple hoặc list hoặc 1 số cái khác =))))\n",
    "kiểu dữ liệu mặc định khi tạo là float"
   ]
  },
  {
   "cell_type": "code",
   "execution_count": 247,
   "id": "95853ae3",
   "metadata": {},
   "outputs": [
    {
     "data": {
      "text/plain": [
       "array([[1., 1., 1., 1.],\n",
       "       [1., 1., 1., 1.]])"
      ]
     },
     "execution_count": 247,
     "metadata": {},
     "output_type": "execute_result"
    }
   ],
   "source": [
    "np.ones([2,4])"
   ]
  },
  {
   "cell_type": "code",
   "execution_count": 248,
   "id": "ed40b133",
   "metadata": {},
   "outputs": [
    {
     "data": {
      "text/plain": [
       "array([ 0,  2,  4,  6,  8, 10, 12, 14, 16, 18, 20])"
      ]
     },
     "execution_count": 248,
     "metadata": {},
     "output_type": "execute_result"
    }
   ],
   "source": [
    "#Tạo 1 mảng range từ 0 , 20 với step = 2\n",
    "np.arange(0, 21,2)"
   ]
  },
  {
   "cell_type": "code",
   "execution_count": 249,
   "id": "017a1042",
   "metadata": {},
   "outputs": [
    {
     "data": {
      "text/plain": [
       "array([[9, 9, 9],\n",
       "       [9, 9, 9]])"
      ]
     },
     "execution_count": 249,
     "metadata": {},
     "output_type": "execute_result"
    }
   ],
   "source": [
    "np.full([2,3],9)"
   ]
  },
  {
   "cell_type": "raw",
   "id": "cdceecdc",
   "metadata": {},
   "source": [
    "mặc định kiểu dữ liệu là int"
   ]
  },
  {
   "cell_type": "code",
   "execution_count": 250,
   "id": "0def5fa8",
   "metadata": {},
   "outputs": [
    {
     "data": {
      "text/plain": [
       "array([0.  , 0.25, 0.5 , 0.75, 1.  ])"
      ]
     },
     "execution_count": 250,
     "metadata": {},
     "output_type": "execute_result"
    }
   ],
   "source": [
    "#tạo array có các khoảng cách nhau đoạn tuyến tính ( linear space)\n",
    "np.linspace(0, 1, 5)"
   ]
  },
  {
   "cell_type": "raw",
   "id": "038bdab2",
   "metadata": {},
   "source": [
    "chia 5 đoạn từ 0 đến 1"
   ]
  },
  {
   "cell_type": "markdown",
   "id": "1642a46e",
   "metadata": {},
   "source": [
    "# Random"
   ]
  },
  {
   "cell_type": "code",
   "execution_count": 251,
   "id": "f1c4ae45",
   "metadata": {},
   "outputs": [
    {
     "data": {
      "text/plain": [
       "array([[0.7670237 , 0.41182014, 0.67543908, 0.24979628],\n",
       "       [0.31321833, 0.96541622, 0.58846509, 0.65966841],\n",
       "       [0.53320625, 0.23053302, 0.39486929, 0.61880856],\n",
       "       [0.47486752, 0.47013219, 0.71607453, 0.287991  ]])"
      ]
     },
     "execution_count": 251,
     "metadata": {},
     "output_type": "execute_result"
    }
   ],
   "source": [
    "np.random.random((4,4))"
   ]
  },
  {
   "cell_type": "raw",
   "id": "ff6a460f",
   "metadata": {},
   "source": [
    "mặc định sẽ return 1 array các phần tử từ 0 đến 1"
   ]
  },
  {
   "cell_type": "code",
   "execution_count": 254,
   "id": "5c0c775e",
   "metadata": {},
   "outputs": [
    {
     "data": {
      "text/plain": [
       "array([[0.5488135 , 0.71518937, 0.60276338, 0.54488318],\n",
       "       [0.4236548 , 0.64589411, 0.43758721, 0.891773  ],\n",
       "       [0.96366276, 0.38344152, 0.79172504, 0.52889492],\n",
       "       [0.56804456, 0.92559664, 0.07103606, 0.0871293 ]])"
      ]
     },
     "execution_count": 254,
     "metadata": {},
     "output_type": "execute_result"
    }
   ],
   "source": [
    "#Seed for reproducibility\n",
    "#muốn chạy random bao nhiêu lần thì nó đều ra kết quả như giá trị chạy đầu tiên\n",
    "np.random.seed(0)\n",
    "np.random.random((4,4))"
   ]
  },
  {
   "cell_type": "code",
   "execution_count": 255,
   "id": "176844b2",
   "metadata": {},
   "outputs": [
    {
     "data": {
      "text/plain": [
       "array([[ 0.44386323,  0.33367433,  1.49407907],\n",
       "       [-0.20515826,  0.3130677 , -0.85409574],\n",
       "       [-2.55298982,  0.6536186 ,  0.8644362 ]])"
      ]
     },
     "execution_count": 255,
     "metadata": {},
     "output_type": "execute_result"
    }
   ],
   "source": [
    "np.random.normal(0,1, (3,3))"
   ]
  },
  {
   "cell_type": "raw",
   "id": "eb8a4edc",
   "metadata": {},
   "source": [
    "Hàm np.random.normal() là một phần của thư viện NumPy trong Python và được sử dụng để tạo ra các mẫu ngẫu nhiên từ phân phối chuẩn (phân phối Gaussian). Phân phối chuẩn được đặc trưng bởi đường cong hình chuông và hoàn toàn được xác định bởi giá trị trung bình và độ lệch chuẩn.\n",
    "\n",
    "###numpy.random.normal(loc=0.0, scale=1.0, size=None)\n",
    "\n",
    "+ loc: Trung bình của phân phối (điểm trung tâm của đường cong hình chuông).\n",
    "+ scale: Độ lệch chuẩn của phân phối (độ rộng của đường cong hình chuông).\n",
    "+ size: Kích thước của mẫu cần tạo ra. Nếu không được chỉ định, một giá trị duy nhất sẽ được tạo ra."
   ]
  },
  {
   "cell_type": "code",
   "execution_count": 256,
   "id": "13ec6718",
   "metadata": {},
   "outputs": [
    {
     "data": {
      "text/plain": [
       "array([[3, 3, 3, 3, 3],\n",
       "       [3, 3, 3, 3, 3],\n",
       "       [3, 3, 3, 3, 3],\n",
       "       [3, 3, 3, 3, 3]])"
      ]
     },
     "execution_count": 256,
     "metadata": {},
     "output_type": "execute_result"
    }
   ],
   "source": [
    "np.random.randint(3,4, (4,5))"
   ]
  },
  {
   "cell_type": "raw",
   "id": "7423607c",
   "metadata": {},
   "source": [
    "Bao gồm các số từ a đến b - 1"
   ]
  },
  {
   "cell_type": "code",
   "execution_count": 257,
   "id": "c6a8e6b0",
   "metadata": {},
   "outputs": [
    {
     "data": {
      "text/plain": [
       "array([[[0.45615033, 0.56843395, 0.0187898 , 0.6176355 , 0.61209572],\n",
       "        [0.616934  , 0.94374808, 0.6818203 , 0.3595079 , 0.43703195],\n",
       "        [0.6976312 , 0.06022547, 0.66676672, 0.67063787, 0.21038256],\n",
       "        [0.1289263 , 0.31542835, 0.36371077, 0.57019677, 0.43860151]],\n",
       "\n",
       "       [[0.98837384, 0.10204481, 0.20887676, 0.16130952, 0.65310833],\n",
       "        [0.2532916 , 0.46631077, 0.24442559, 0.15896958, 0.11037514],\n",
       "        [0.65632959, 0.13818295, 0.19658236, 0.36872517, 0.82099323],\n",
       "        [0.09710128, 0.83794491, 0.09609841, 0.97645947, 0.4686512 ]],\n",
       "\n",
       "       [[0.97676109, 0.60484552, 0.73926358, 0.03918779, 0.28280696],\n",
       "        [0.12019656, 0.2961402 , 0.11872772, 0.31798318, 0.41426299],\n",
       "        [0.0641475 , 0.69247212, 0.56660145, 0.26538949, 0.52324805],\n",
       "        [0.09394051, 0.5759465 , 0.9292962 , 0.31856895, 0.66741038]]])"
      ]
     },
     "execution_count": 257,
     "metadata": {},
     "output_type": "execute_result"
    }
   ],
   "source": [
    "np.random.rand(3,4,5)"
   ]
  },
  {
   "cell_type": "raw",
   "id": "6b5e5c0b",
   "metadata": {},
   "source": [
    "random theo từ 0 đến 1\n",
    "chới theo hệ tensow "
   ]
  },
  {
   "cell_type": "markdown",
   "id": "af5e2d08",
   "metadata": {},
   "source": [
    "# Array index and Slicing"
   ]
  },
  {
   "cell_type": "markdown",
   "id": "6dc1b9a6",
   "metadata": {},
   "source": [
    "## One-dimensional subarray"
   ]
  },
  {
   "cell_type": "code",
   "execution_count": 258,
   "id": "43bf0f28",
   "metadata": {},
   "outputs": [],
   "source": [
    "X1 = np.random.randint(20,size = 6)"
   ]
  },
  {
   "cell_type": "code",
   "execution_count": 259,
   "id": "c3586703",
   "metadata": {},
   "outputs": [
    {
     "data": {
      "text/plain": [
       "array([19, 16,  0,  0,  6, 19])"
      ]
     },
     "execution_count": 259,
     "metadata": {},
     "output_type": "execute_result"
    }
   ],
   "source": [
    "X1"
   ]
  },
  {
   "cell_type": "code",
   "execution_count": 260,
   "id": "1cf36b4f",
   "metadata": {},
   "outputs": [],
   "source": [
    "X1[4]"
   ]
  },
  {
   "cell_type": "code",
   "execution_count": 261,
   "id": "8905e306",
   "metadata": {},
   "outputs": [
    {
     "data": {
      "text/plain": [
       "array([19, 16,  0,  0,  6])"
      ]
     },
     "execution_count": 261,
     "metadata": {},
     "output_type": "execute_result"
    }
   ],
   "source": [
    "X1[:-1]"
   ]
  },
  {
   "cell_type": "markdown",
   "id": "6b2ee289",
   "metadata": {},
   "source": [
    "## Multi-dimension array"
   ]
  },
  {
   "cell_type": "code",
   "execution_count": 262,
   "id": "8532f0cb",
   "metadata": {},
   "outputs": [],
   "source": [
    "X2 = np.random.randint(10, size = (2,3))"
   ]
  },
  {
   "cell_type": "code",
   "execution_count": 263,
   "id": "a7153605",
   "metadata": {},
   "outputs": [
    {
     "data": {
      "text/plain": [
       "array([[3, 8, 8],\n",
       "       [8, 2, 3]])"
      ]
     },
     "execution_count": 263,
     "metadata": {},
     "output_type": "execute_result"
    }
   ],
   "source": [
    "X2"
   ]
  },
  {
   "cell_type": "markdown",
   "id": "a169cb25",
   "metadata": {},
   "source": [
    "## Slicing"
   ]
  },
  {
   "cell_type": "markdown",
   "id": "f8437c2d",
   "metadata": {},
   "source": [
    "#### X[start:stop:step]"
   ]
  },
  {
   "cell_type": "code",
   "execution_count": 264,
   "id": "2c73df9e",
   "metadata": {},
   "outputs": [
    {
     "data": {
      "text/plain": [
       "array([[3, 8, 8]])"
      ]
     },
     "execution_count": 264,
     "metadata": {},
     "output_type": "execute_result"
    }
   ],
   "source": [
    "X2[0:1]"
   ]
  },
  {
   "cell_type": "raw",
   "id": "4950f93c",
   "metadata": {},
   "source": [
    "Tương đương với : X2[0]"
   ]
  },
  {
   "cell_type": "code",
   "execution_count": 265,
   "id": "e4dd7213",
   "metadata": {},
   "outputs": [
    {
     "data": {
      "text/plain": [
       "array([[3, 8]])"
      ]
     },
     "execution_count": 265,
     "metadata": {},
     "output_type": "execute_result"
    }
   ],
   "source": [
    "X2[0:1, 0:2]"
   ]
  },
  {
   "cell_type": "code",
   "execution_count": 266,
   "id": "88bd2961",
   "metadata": {},
   "outputs": [
    {
     "data": {
      "text/plain": [
       "array([[3, 8],\n",
       "       [8, 2]])"
      ]
     },
     "execution_count": 266,
     "metadata": {},
     "output_type": "execute_result"
    }
   ],
   "source": [
    "X2[:2, :2]"
   ]
  },
  {
   "cell_type": "raw",
   "id": "ce3a8593",
   "metadata": {},
   "source": [
    "=> KẾT LUẬN : X2[a:b, c: d] -> lấy từ hàng a đến b - 1, cột c đến cột d - 1"
   ]
  },
  {
   "cell_type": "code",
   "execution_count": 267,
   "id": "dd0e39ff",
   "metadata": {},
   "outputs": [],
   "source": [
    "X1 = np.array([1,3,4,52,4])\n"
   ]
  },
  {
   "cell_type": "code",
   "execution_count": 268,
   "id": "4becc7fe",
   "metadata": {},
   "outputs": [
    {
     "data": {
      "text/plain": [
       "array([ 4, 52,  4])"
      ]
     },
     "execution_count": 268,
     "metadata": {},
     "output_type": "execute_result"
    }
   ],
   "source": [
    "X1[2 : 6]"
   ]
  },
  {
   "cell_type": "code",
   "execution_count": 269,
   "id": "717053c2",
   "metadata": {},
   "outputs": [
    {
     "data": {
      "text/plain": [
       "array([1, 4, 4])"
      ]
     },
     "execution_count": 269,
     "metadata": {},
     "output_type": "execute_result"
    }
   ],
   "source": [
    "X1[::2]"
   ]
  },
  {
   "cell_type": "markdown",
   "id": "d097462f",
   "metadata": {},
   "source": [
    "## Reshaping of Array and Transpose"
   ]
  },
  {
   "cell_type": "code",
   "execution_count": 270,
   "id": "72aab7c2",
   "metadata": {},
   "outputs": [
    {
     "data": {
      "text/plain": [
       "(9,)"
      ]
     },
     "execution_count": 270,
     "metadata": {},
     "output_type": "execute_result"
    }
   ],
   "source": [
    "grid = np.arange(1,10)\n",
    "\n",
    "grid.shape"
   ]
  },
  {
   "cell_type": "code",
   "execution_count": 271,
   "id": "66140d12",
   "metadata": {},
   "outputs": [
    {
     "data": {
      "text/plain": [
       "array([[1, 2, 3],\n",
       "       [4, 5, 6],\n",
       "       [7, 8, 9]])"
      ]
     },
     "execution_count": 271,
     "metadata": {},
     "output_type": "execute_result"
    }
   ],
   "source": [
    "grid.reshape((3,3))"
   ]
  },
  {
   "cell_type": "code",
   "execution_count": 272,
   "id": "2d551418",
   "metadata": {},
   "outputs": [
    {
     "data": {
      "text/plain": [
       "array([[1, 4, 7],\n",
       "       [2, 5, 8],\n",
       "       [3, 6, 9]])"
      ]
     },
     "execution_count": 272,
     "metadata": {},
     "output_type": "execute_result"
    }
   ],
   "source": [
    "grid.reshape((3,3)).T"
   ]
  },
  {
   "cell_type": "markdown",
   "id": "79776e82",
   "metadata": {},
   "source": [
    "## Array Concantenation and Splitting"
   ]
  },
  {
   "cell_type": "markdown",
   "id": "8ba51d85",
   "metadata": {},
   "source": [
    "### Concantenation"
   ]
  },
  {
   "cell_type": "code",
   "execution_count": 273,
   "id": "ea39a324",
   "metadata": {},
   "outputs": [],
   "source": [
    "x = np.array([1,2,3])\n",
    "y = np.array([3,2,1])"
   ]
  },
  {
   "cell_type": "code",
   "execution_count": 274,
   "id": "1fe325f0",
   "metadata": {},
   "outputs": [
    {
     "data": {
      "text/plain": [
       "array([1, 2, 3, 3, 2, 1])"
      ]
     },
     "execution_count": 274,
     "metadata": {},
     "output_type": "execute_result"
    }
   ],
   "source": [
    "np.concatenate((x,y), axis = 0)"
   ]
  },
  {
   "cell_type": "raw",
   "id": "6d93df15",
   "metadata": {},
   "source": [
    "axis là nối theo chiều nào , 0 là chiều thứ 1 , ..."
   ]
  },
  {
   "cell_type": "code",
   "execution_count": 275,
   "id": "fb341bec",
   "metadata": {},
   "outputs": [],
   "source": [
    "x = np.random.randint(5,size = (3,3))\n",
    "y = np.random.randint(5,size = (3,3))"
   ]
  },
  {
   "cell_type": "code",
   "execution_count": 276,
   "id": "492fcf91",
   "metadata": {},
   "outputs": [
    {
     "data": {
      "text/plain": [
       "array([[2, 3, 0],\n",
       "       [0, 0, 3],\n",
       "       [0, 2, 2]])"
      ]
     },
     "execution_count": 276,
     "metadata": {},
     "output_type": "execute_result"
    }
   ],
   "source": [
    "x"
   ]
  },
  {
   "cell_type": "code",
   "execution_count": 277,
   "id": "e26573a4",
   "metadata": {},
   "outputs": [
    {
     "data": {
      "text/plain": [
       "array([[0, 4, 3],\n",
       "       [4, 0, 4],\n",
       "       [3, 3, 4]])"
      ]
     },
     "execution_count": 277,
     "metadata": {},
     "output_type": "execute_result"
    }
   ],
   "source": [
    "y"
   ]
  },
  {
   "cell_type": "code",
   "execution_count": 278,
   "id": "6d1e4e37",
   "metadata": {},
   "outputs": [
    {
     "data": {
      "text/plain": [
       "array([[2, 3, 0],\n",
       "       [0, 0, 3],\n",
       "       [0, 2, 2],\n",
       "       [0, 4, 3],\n",
       "       [4, 0, 4],\n",
       "       [3, 3, 4]])"
      ]
     },
     "execution_count": 278,
     "metadata": {},
     "output_type": "execute_result"
    }
   ],
   "source": [
    "np.concatenate((x,y), axis = 0)"
   ]
  },
  {
   "cell_type": "code",
   "execution_count": 279,
   "id": "2c8af01e",
   "metadata": {},
   "outputs": [
    {
     "data": {
      "text/plain": [
       "(6, 3)"
      ]
     },
     "execution_count": 279,
     "metadata": {},
     "output_type": "execute_result"
    }
   ],
   "source": [
    "np.concatenate((x,y), axis = 0).shape"
   ]
  },
  {
   "cell_type": "code",
   "execution_count": 280,
   "id": "b42ccafb",
   "metadata": {},
   "outputs": [
    {
     "data": {
      "text/plain": [
       "array([[2, 3, 0, 0, 4, 3],\n",
       "       [0, 0, 3, 4, 0, 4],\n",
       "       [0, 2, 2, 3, 3, 4]])"
      ]
     },
     "execution_count": 280,
     "metadata": {},
     "output_type": "execute_result"
    }
   ],
   "source": [
    "np.concatenate((x,y), axis = 1)"
   ]
  },
  {
   "cell_type": "code",
   "execution_count": 281,
   "id": "55cd5c31",
   "metadata": {},
   "outputs": [
    {
     "data": {
      "text/plain": [
       "(3, 6)"
      ]
     },
     "execution_count": 281,
     "metadata": {},
     "output_type": "execute_result"
    }
   ],
   "source": [
    "np.concatenate((x,y), axis = 1).shape"
   ]
  },
  {
   "cell_type": "raw",
   "id": "4fe4b8fa",
   "metadata": {},
   "source": [
    " KẾT LUẬN : chiều thứ nhất là nối theo hàng, chiều 2 là cột, chiều 3 là tensow ....."
   ]
  },
  {
   "cell_type": "code",
   "execution_count": 282,
   "id": "5f75e90e",
   "metadata": {},
   "outputs": [],
   "source": [
    "#vstack ( vertical stack)\n",
    "#Nối theo chiều ngang ( thêm hàng)\n",
    "x = np.array([1,2,3])\n",
    "y = np.array([[0, 3, 2],\n",
    "       [0, 0, 1],\n",
    "       [1, 0, 3]])"
   ]
  },
  {
   "cell_type": "code",
   "execution_count": 283,
   "id": "a01e07ee",
   "metadata": {},
   "outputs": [
    {
     "data": {
      "text/plain": [
       "array([[1, 2, 3],\n",
       "       [0, 3, 2],\n",
       "       [0, 0, 1],\n",
       "       [1, 0, 3]])"
      ]
     },
     "execution_count": 283,
     "metadata": {},
     "output_type": "execute_result"
    }
   ],
   "source": [
    "np.vstack((x,y))"
   ]
  },
  {
   "cell_type": "code",
   "execution_count": 284,
   "id": "5f8e1bff",
   "metadata": {},
   "outputs": [
    {
     "data": {
      "text/plain": [
       "array([1, 2, 3, 0, 3, 2])"
      ]
     },
     "execution_count": 284,
     "metadata": {},
     "output_type": "execute_result"
    }
   ],
   "source": [
    "#hstack(horixontal stack)\n",
    "#nối theo chiều dọc ( thêm dòng)\n",
    "y = np.array([0, 3, 2],\n",
    "       )\n",
    "np.hstack((x,y))"
   ]
  },
  {
   "cell_type": "markdown",
   "id": "66a4fec7",
   "metadata": {},
   "source": [
    "### Splitting array"
   ]
  },
  {
   "cell_type": "code",
   "execution_count": 285,
   "id": "13010895",
   "metadata": {},
   "outputs": [],
   "source": [
    "x = np.array([1,2,3,4,21,42])"
   ]
  },
  {
   "cell_type": "code",
   "execution_count": 286,
   "id": "d9a3320e",
   "metadata": {},
   "outputs": [
    {
     "data": {
      "text/plain": [
       "[array([1, 2, 3]), array([ 4, 21]), array([42])]"
      ]
     },
     "execution_count": 286,
     "metadata": {},
     "output_type": "execute_result"
    }
   ],
   "source": [
    "np.split(x, [3,5])"
   ]
  },
  {
   "cell_type": "raw",
   "id": "c4e0ecd7",
   "metadata": {},
   "source": [
    "Chia array thành 3 khoảng 0 đến 2, 3 đến 4, 5 đến -1"
   ]
  },
  {
   "cell_type": "code",
   "execution_count": 287,
   "id": "be9a057a",
   "metadata": {},
   "outputs": [],
   "source": [
    "x1,x2,x3 = np.split(x, [3,5])"
   ]
  },
  {
   "cell_type": "raw",
   "id": "8f7af1aa",
   "metadata": {},
   "source": [
    "Có thể gán bằng cách đóng gói trong python"
   ]
  },
  {
   "cell_type": "markdown",
   "id": "fa55843a",
   "metadata": {},
   "source": [
    "# Broadcasting and Vectorize operations"
   ]
  },
  {
   "cell_type": "markdown",
   "id": "dbe55804",
   "metadata": {},
   "source": [
    "### Broadcasting is simply a set of rules for applying binary ufuncs (e.g., addition, subtraction, multiplication, etc.) on arrays of different sizes.\n",
    "\n",
    "![image-broadcasting](https://jakevdp.github.io/PythonDataScienceHandbook/figures/02.05-broadcasting.png)"
   ]
  },
  {
   "cell_type": "markdown",
   "id": "c3a078c8",
   "metadata": {},
   "source": [
    "### Dễ hiểu hơn là numpy sẽ nhân bản các phần tử sao cho 2 ma trận sẽ có cùng chiều hoặc có số chiều phù hợp để thực hiện các phép tính"
   ]
  },
  {
   "cell_type": "code",
   "execution_count": 288,
   "id": "7333500b",
   "metadata": {},
   "outputs": [],
   "source": [
    "a = np.arange(3)"
   ]
  },
  {
   "cell_type": "code",
   "execution_count": 289,
   "id": "c889f0fd",
   "metadata": {},
   "outputs": [
    {
     "data": {
      "text/plain": [
       "array([0, 1, 2])"
      ]
     },
     "execution_count": 289,
     "metadata": {},
     "output_type": "execute_result"
    }
   ],
   "source": [
    "a"
   ]
  },
  {
   "cell_type": "code",
   "execution_count": 290,
   "id": "06ea9a3c",
   "metadata": {},
   "outputs": [
    {
     "data": {
      "text/plain": [
       "array([5, 6, 7])"
      ]
     },
     "execution_count": 290,
     "metadata": {},
     "output_type": "execute_result"
    }
   ],
   "source": [
    "a + 5"
   ]
  },
  {
   "cell_type": "raw",
   "id": "41403f47",
   "metadata": {},
   "source": [
    "Cộng tất cả các phần tử với 5"
   ]
  },
  {
   "cell_type": "code",
   "execution_count": 291,
   "id": "d5a1c2a2",
   "metadata": {},
   "outputs": [
    {
     "data": {
      "text/plain": [
       "array([[1., 1., 1.],\n",
       "       [1., 1., 1.],\n",
       "       [1., 1., 1.]])"
      ]
     },
     "execution_count": 291,
     "metadata": {},
     "output_type": "execute_result"
    }
   ],
   "source": [
    "b = np.ones((3,3))\n",
    "b"
   ]
  },
  {
   "cell_type": "code",
   "execution_count": 292,
   "id": "52d3c8d7",
   "metadata": {},
   "outputs": [
    {
     "data": {
      "text/plain": [
       "array([[1., 2., 3.],\n",
       "       [1., 2., 3.],\n",
       "       [1., 2., 3.]])"
      ]
     },
     "execution_count": 292,
     "metadata": {},
     "output_type": "execute_result"
    }
   ],
   "source": [
    "a + b"
   ]
  },
  {
   "cell_type": "raw",
   "id": "4287239d",
   "metadata": {},
   "source": [
    "Cộng mỗi hàng của b với a"
   ]
  },
  {
   "cell_type": "markdown",
   "id": "3649d02d",
   "metadata": {},
   "source": [
    "# Manipulating and Comparing Arrays"
   ]
  },
  {
   "cell_type": "markdown",
   "id": "06d9f7c5",
   "metadata": {},
   "source": [
    "## Aggregation "
   ]
  },
  {
   "cell_type": "markdown",
   "id": "0433a01c",
   "metadata": {},
   "source": [
    "#### Agreegation = performing the same operation on a number of thing"
   ]
  },
  {
   "cell_type": "code",
   "execution_count": 293,
   "id": "ef0e0343",
   "metadata": {},
   "outputs": [],
   "source": [
    "list_num = [1,2,3]"
   ]
  },
  {
   "cell_type": "code",
   "execution_count": 295,
   "id": "1410b449",
   "metadata": {},
   "outputs": [],
   "source": [
    "ll = np.array (list_num)"
   ]
  },
  {
   "cell_type": "code",
   "execution_count": 296,
   "id": "34f6d602",
   "metadata": {},
   "outputs": [
    {
     "data": {
      "text/plain": [
       "array([1, 2, 3])"
      ]
     },
     "execution_count": 296,
     "metadata": {},
     "output_type": "execute_result"
    }
   ],
   "source": [
    "ll\n"
   ]
  },
  {
   "cell_type": "code",
   "execution_count": 297,
   "id": "fc9052de",
   "metadata": {},
   "outputs": [
    {
     "data": {
      "text/plain": [
       "6"
      ]
     },
     "execution_count": 297,
     "metadata": {},
     "output_type": "execute_result"
    }
   ],
   "source": [
    "sum(ll)"
   ]
  },
  {
   "cell_type": "code",
   "execution_count": 298,
   "id": "02e95ccb",
   "metadata": {},
   "outputs": [
    {
     "data": {
      "text/plain": [
       "6"
      ]
     },
     "execution_count": 298,
     "metadata": {},
     "output_type": "execute_result"
    }
   ],
   "source": [
    "np.sum(ll)"
   ]
  },
  {
   "cell_type": "code",
   "execution_count": 299,
   "id": "773b4103",
   "metadata": {},
   "outputs": [],
   "source": [
    "massive_array = np.random.random(10000)"
   ]
  },
  {
   "cell_type": "code",
   "execution_count": 300,
   "id": "379fe4a2",
   "metadata": {},
   "outputs": [
    {
     "data": {
      "text/plain": [
       "array([0.7670237 , 0.41182014, 0.67543908, 0.24979628, 0.31321833])"
      ]
     },
     "execution_count": 300,
     "metadata": {},
     "output_type": "execute_result"
    }
   ],
   "source": [
    "massive_array[:5]"
   ]
  },
  {
   "cell_type": "code",
   "execution_count": 301,
   "id": "455236c5",
   "metadata": {},
   "outputs": [
    {
     "data": {
      "text/plain": [
       "(10000,)"
      ]
     },
     "execution_count": 301,
     "metadata": {},
     "output_type": "execute_result"
    }
   ],
   "source": [
    "massive_array.shape"
   ]
  },
  {
   "cell_type": "code",
   "execution_count": 303,
   "id": "c4094007",
   "metadata": {},
   "outputs": [
    {
     "name": "stdout",
     "output_type": "stream",
     "text": [
      "1.19 ms ± 97 µs per loop (mean ± std. dev. of 7 runs, 1,000 loops each)\n"
     ]
    }
   ],
   "source": [
    "%timeit sum(massive_array) # python build in function sum()"
   ]
  },
  {
   "cell_type": "code",
   "execution_count": 304,
   "id": "d34eed5d",
   "metadata": {},
   "outputs": [
    {
     "name": "stdout",
     "output_type": "stream",
     "text": [
      "13.4 µs ± 96.8 ns per loop (mean ± std. dev. of 7 runs, 100,000 loops each)\n"
     ]
    }
   ],
   "source": [
    "%timeit np.sum(massive_array)"
   ]
  },
  {
   "cell_type": "raw",
   "id": "55764e5a",
   "metadata": {},
   "source": [
    "Thư viện numpy có tốc độ xử lí cao hơn nhiều so với các hàm trong python"
   ]
  },
  {
   "cell_type": "markdown",
   "id": "2c364dbc",
   "metadata": {},
   "source": [
    "## Độ lệch chuẩn và phương sai trong numpy "
   ]
  },
  {
   "cell_type": "markdown",
   "id": "2686757f",
   "metadata": {},
   "source": [
    "### ví dụ tính độ lệch chuẩn và phương sai trong chiều cao những con chóa"
   ]
  },
  {
   "cell_type": "code",
   "execution_count": 305,
   "id": "2754c236",
   "metadata": {},
   "outputs": [],
   "source": [
    "# chiều cao các con chó\n",
    "dog_height = [600, 470, 170, 430, 300]"
   ]
  },
  {
   "cell_type": "code",
   "execution_count": 306,
   "id": "8ee0fb75",
   "metadata": {},
   "outputs": [],
   "source": [
    "dog_height = np.array(dog_height)"
   ]
  },
  {
   "cell_type": "code",
   "execution_count": 307,
   "id": "e07cabb9",
   "metadata": {},
   "outputs": [
    {
     "data": {
      "text/plain": [
       "147.32277488562318"
      ]
     },
     "execution_count": 307,
     "metadata": {},
     "output_type": "execute_result"
    }
   ],
   "source": [
    "# độ lệch chuẩn\n",
    "np.std(dog_height)"
   ]
  },
  {
   "cell_type": "code",
   "execution_count": 309,
   "id": "1890a54b",
   "metadata": {},
   "outputs": [
    {
     "data": {
      "text/plain": [
       "21704.000000000004"
      ]
     },
     "execution_count": 309,
     "metadata": {},
     "output_type": "execute_result"
    }
   ],
   "source": [
    "# phương sai \n",
    "np.std(dog_height) ** 2"
   ]
  },
  {
   "cell_type": "code",
   "execution_count": 311,
   "id": "4a523661",
   "metadata": {},
   "outputs": [
    {
     "data": {
      "text/plain": [
       "21704.0"
      ]
     },
     "execution_count": 311,
     "metadata": {},
     "output_type": "execute_result"
    }
   ],
   "source": [
    "# phương sai hàm có sẵn\n",
    "np.var(dog_height)"
   ]
  },
  {
   "cell_type": "markdown",
   "id": "286790e1",
   "metadata": {},
   "source": [
    "# Sorting Array"
   ]
  },
  {
   "cell_type": "markdown",
   "id": "189cfda6",
   "metadata": {},
   "source": [
    "### NP.SORT dựa trên thauatj toán quicksort (O(nlogn))"
   ]
  },
  {
   "cell_type": "code",
   "execution_count": 312,
   "id": "830763c1",
   "metadata": {},
   "outputs": [],
   "source": [
    "x = np.array([2,1,4,3,5])"
   ]
  },
  {
   "cell_type": "code",
   "execution_count": 313,
   "id": "8d6ac71a",
   "metadata": {},
   "outputs": [
    {
     "data": {
      "text/plain": [
       "array([1, 2, 3, 4, 5])"
      ]
     },
     "execution_count": 313,
     "metadata": {},
     "output_type": "execute_result"
    }
   ],
   "source": [
    "np.sort(x)"
   ]
  },
  {
   "cell_type": "code",
   "execution_count": 314,
   "id": "0cd809f8",
   "metadata": {},
   "outputs": [
    {
     "data": {
      "text/plain": [
       "array([1, 0, 3, 2, 4], dtype=int64)"
      ]
     },
     "execution_count": 314,
     "metadata": {},
     "output_type": "execute_result"
    }
   ],
   "source": [
    "#A related function is argsort, which instead returns the indices of the sorted elements:\n",
    "np.argsort(x)"
   ]
  },
  {
   "cell_type": "raw",
   "id": "df8c9b2b",
   "metadata": {},
   "source": [
    "return index của các thành phần đã được sort \n",
    "Như ví dụ trên x[1] x[0] x[3] ...."
   ]
  },
  {
   "cell_type": "markdown",
   "id": "fd6a67fe",
   "metadata": {},
   "source": [
    "### Sorting along rows or columns "
   ]
  },
  {
   "cell_type": "code",
   "execution_count": 317,
   "id": "507b704d",
   "metadata": {},
   "outputs": [],
   "source": [
    "np.random.seed(42)\n",
    "\n",
    "matA = np.random.randint(0,10, size = (4,6))"
   ]
  },
  {
   "cell_type": "code",
   "execution_count": 318,
   "id": "5fc74f93",
   "metadata": {},
   "outputs": [
    {
     "data": {
      "text/plain": [
       "array([[6, 3, 7, 4, 6, 9],\n",
       "       [2, 6, 7, 4, 3, 7],\n",
       "       [7, 2, 5, 4, 1, 7],\n",
       "       [5, 1, 4, 0, 9, 5]])"
      ]
     },
     "execution_count": 318,
     "metadata": {},
     "output_type": "execute_result"
    }
   ],
   "source": [
    "matA"
   ]
  },
  {
   "cell_type": "code",
   "execution_count": 319,
   "id": "5af8a4b8",
   "metadata": {},
   "outputs": [
    {
     "data": {
      "text/plain": [
       "array([[2, 1, 4, 0, 1, 5],\n",
       "       [5, 2, 5, 4, 3, 7],\n",
       "       [6, 3, 7, 4, 6, 7],\n",
       "       [7, 6, 7, 4, 9, 9]])"
      ]
     },
     "execution_count": 319,
     "metadata": {},
     "output_type": "execute_result"
    }
   ],
   "source": [
    "#sắp xếp theo cột\n",
    "np.sort(matA, axis = 0)"
   ]
  },
  {
   "cell_type": "code",
   "execution_count": 320,
   "id": "00751a1a",
   "metadata": {},
   "outputs": [
    {
     "data": {
      "text/plain": [
       "array([[3, 4, 6, 6, 7, 9],\n",
       "       [2, 3, 4, 6, 7, 7],\n",
       "       [1, 2, 4, 5, 7, 7],\n",
       "       [0, 1, 4, 5, 5, 9]])"
      ]
     },
     "execution_count": 320,
     "metadata": {},
     "output_type": "execute_result"
    }
   ],
   "source": [
    "# sắp xếp theo hàng\n",
    "np.sort(matA, axis = 1)"
   ]
  },
  {
   "cell_type": "markdown",
   "id": "8e36733e",
   "metadata": {},
   "source": [
    "# Linear Algebra"
   ]
  },
  {
   "cell_type": "code",
   "execution_count": 324,
   "id": "1d640983",
   "metadata": {},
   "outputs": [],
   "source": [
    "np.random.seed()\n",
    "A = np.random.randint(0,10, size = (3,3))"
   ]
  },
  {
   "cell_type": "code",
   "execution_count": 325,
   "id": "bb9579d4",
   "metadata": {},
   "outputs": [
    {
     "data": {
      "text/plain": [
       "array([[0, 7, 7],\n",
       "       [6, 6, 8],\n",
       "       [4, 1, 0]])"
      ]
     },
     "execution_count": 325,
     "metadata": {},
     "output_type": "execute_result"
    }
   ],
   "source": [
    "A"
   ]
  },
  {
   "cell_type": "code",
   "execution_count": 329,
   "id": "e68b6dfd",
   "metadata": {},
   "outputs": [],
   "source": [
    "np.random.seed()\n",
    "B= np.random.randint(0,10, size = (3,2))"
   ]
  },
  {
   "cell_type": "code",
   "execution_count": 330,
   "id": "1c676eda",
   "metadata": {},
   "outputs": [
    {
     "data": {
      "text/plain": [
       "array([[5, 8],\n",
       "       [4, 6],\n",
       "       [5, 9]])"
      ]
     },
     "execution_count": 330,
     "metadata": {},
     "output_type": "execute_result"
    }
   ],
   "source": [
    "B"
   ]
  },
  {
   "cell_type": "markdown",
   "id": "c28f69a2",
   "metadata": {},
   "source": [
    "#### DOT product "
   ]
  },
  {
   "cell_type": "code",
   "execution_count": 331,
   "id": "b13a1075",
   "metadata": {},
   "outputs": [
    {
     "data": {
      "text/plain": [
       "array([[ 63, 105],\n",
       "       [ 94, 156],\n",
       "       [ 24,  38]])"
      ]
     },
     "execution_count": 331,
     "metadata": {},
     "output_type": "execute_result"
    }
   ],
   "source": [
    "# cách 1\n",
    "A.dot(B)"
   ]
  },
  {
   "cell_type": "raw",
   "id": "96707e79",
   "metadata": {},
   "source": [
    "ma trận mới có số hàng là ma trận 1, số cột là ma trận 2"
   ]
  },
  {
   "cell_type": "code",
   "execution_count": 332,
   "id": "3e841699",
   "metadata": {},
   "outputs": [
    {
     "data": {
      "text/plain": [
       "array([[ 63, 105],\n",
       "       [ 94, 156],\n",
       "       [ 24,  38]])"
      ]
     },
     "execution_count": 332,
     "metadata": {},
     "output_type": "execute_result"
    }
   ],
   "source": [
    "# cách 2 \n",
    "A @ B"
   ]
  },
  {
   "cell_type": "code",
   "execution_count": 333,
   "id": "c3cfb645",
   "metadata": {},
   "outputs": [],
   "source": [
    "# Number of jars sold\n",
    "\n",
    "np.random.seed(0)\n",
    "sales_amounts = np.random.randint(20, size =(5,3))"
   ]
  },
  {
   "cell_type": "code",
   "execution_count": 334,
   "id": "042d4e62",
   "metadata": {},
   "outputs": [
    {
     "data": {
      "text/plain": [
       "array([[12, 15,  0],\n",
       "       [ 3,  3,  7],\n",
       "       [ 9, 19, 18],\n",
       "       [ 4,  6, 12],\n",
       "       [ 1,  6,  7]])"
      ]
     },
     "execution_count": 334,
     "metadata": {},
     "output_type": "execute_result"
    }
   ],
   "source": [
    "sales_amounts"
   ]
  },
  {
   "cell_type": "code",
   "execution_count": 336,
   "id": "e3606450",
   "metadata": {},
   "outputs": [],
   "source": [
    "#Create weekly DataFrame\n",
    "import pandas as pd"
   ]
  },
  {
   "cell_type": "code",
   "execution_count": 342,
   "id": "f1d1f069",
   "metadata": {},
   "outputs": [],
   "source": [
    "weekly_sales = pd.DataFrame(sales_amounts, index = ['Mon', 'Tue', 'Wed', 'Thurs', 'Fri'], columns = ['Things 1', 'Things 2', 'Things 3'])"
   ]
  },
  {
   "cell_type": "raw",
   "id": "da48b7e0",
   "metadata": {},
   "source": [
    "pd.DataFrame: Đây là hàm trong thư viện pandas để tạo một DataFrame. DataFrame là một cấu trúc dữ liệu hai chiều giống như bảng, với các hàng và cột.\n",
    "\n",
    "Hàm tạo DataFrame này có tham số như sau:\n",
    "\n",
    "sales_amounts: Là dữ liệu đầu vào, có thể là một list, một mảng, hoặc một cấu trúc dữ liệu khác chứa dữ liệu bán hàng. Dữ liệu này sẽ được sắp xếp theo thứ tự hàng (dòng) trong DataFrame.\n",
    "\n",
    "index: Là tham số cho cột chỉ mục (index) của DataFrame, tức là các nhãn của các hàng. Trong trường hợp này, các nhãn được sử dụng là 'Mon', 'Tue', 'Wed', 'Thurs', 'Fri'.\n",
    "\n",
    "columns: Là tham số cho cột của DataFrame, tức là các nhãn của các cột. Trong trường hợp này, các nhãn được sử dụng là 'Things 1', 'Things 2', 'Things 3'."
   ]
  },
  {
   "cell_type": "code",
   "execution_count": 343,
   "id": "e322766f",
   "metadata": {},
   "outputs": [
    {
     "data": {
      "text/html": [
       "<div>\n",
       "<style scoped>\n",
       "    .dataframe tbody tr th:only-of-type {\n",
       "        vertical-align: middle;\n",
       "    }\n",
       "\n",
       "    .dataframe tbody tr th {\n",
       "        vertical-align: top;\n",
       "    }\n",
       "\n",
       "    .dataframe thead th {\n",
       "        text-align: right;\n",
       "    }\n",
       "</style>\n",
       "<table border=\"1\" class=\"dataframe\">\n",
       "  <thead>\n",
       "    <tr style=\"text-align: right;\">\n",
       "      <th></th>\n",
       "      <th>Things 1</th>\n",
       "      <th>Things 2</th>\n",
       "      <th>Things 3</th>\n",
       "    </tr>\n",
       "  </thead>\n",
       "  <tbody>\n",
       "    <tr>\n",
       "      <th>Mon</th>\n",
       "      <td>12</td>\n",
       "      <td>15</td>\n",
       "      <td>0</td>\n",
       "    </tr>\n",
       "    <tr>\n",
       "      <th>Tue</th>\n",
       "      <td>3</td>\n",
       "      <td>3</td>\n",
       "      <td>7</td>\n",
       "    </tr>\n",
       "    <tr>\n",
       "      <th>Wed</th>\n",
       "      <td>9</td>\n",
       "      <td>19</td>\n",
       "      <td>18</td>\n",
       "    </tr>\n",
       "    <tr>\n",
       "      <th>Thurs</th>\n",
       "      <td>4</td>\n",
       "      <td>6</td>\n",
       "      <td>12</td>\n",
       "    </tr>\n",
       "    <tr>\n",
       "      <th>Fri</th>\n",
       "      <td>1</td>\n",
       "      <td>6</td>\n",
       "      <td>7</td>\n",
       "    </tr>\n",
       "  </tbody>\n",
       "</table>\n",
       "</div>"
      ],
      "text/plain": [
       "       Things 1  Things 2  Things 3\n",
       "Mon          12        15         0\n",
       "Tue           3         3         7\n",
       "Wed           9        19        18\n",
       "Thurs         4         6        12\n",
       "Fri           1         6         7"
      ]
     },
     "execution_count": 343,
     "metadata": {},
     "output_type": "execute_result"
    }
   ],
   "source": [
    "weekly_sales"
   ]
  },
  {
   "cell_type": "code",
   "execution_count": null,
   "id": "91493750",
   "metadata": {},
   "outputs": [],
   "source": []
  }
 ],
 "metadata": {
  "kernelspec": {
   "display_name": "Python 3 (ipykernel)",
   "language": "python",
   "name": "python3"
  },
  "language_info": {
   "codemirror_mode": {
    "name": "ipython",
    "version": 3
   },
   "file_extension": ".py",
   "mimetype": "text/x-python",
   "name": "python",
   "nbconvert_exporter": "python",
   "pygments_lexer": "ipython3",
   "version": "3.11.5"
  }
 },
 "nbformat": 4,
 "nbformat_minor": 5
}
