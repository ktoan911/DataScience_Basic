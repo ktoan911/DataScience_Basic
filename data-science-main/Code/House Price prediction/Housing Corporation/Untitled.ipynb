{
 "cells": [
  {
   "cell_type": "markdown",
   "id": "cf02914b",
   "metadata": {},
   "source": [
    "## House Price Prediction\n",
    "\n",
    "### 1. Problem Definition\n",
    "\n",
    "#### . Goal: predict the sales price for each house"
   ]
  },
  {
   "cell_type": "code",
   "execution_count": null,
   "id": "c6fba859",
   "metadata": {},
   "outputs": [],
   "source": [
    "import pandas as pd\n",
    "import nu"
   ]
  }
 ],
 "metadata": {
  "kernelspec": {
   "display_name": "Python 3 (ipykernel)",
   "language": "python",
   "name": "python3"
  },
  "language_info": {
   "codemirror_mode": {
    "name": "ipython",
    "version": 3
   },
   "file_extension": ".py",
   "mimetype": "text/x-python",
   "name": "python",
   "nbconvert_exporter": "python",
   "pygments_lexer": "ipython3",
   "version": "3.11.5"
  }
 },
 "nbformat": 4,
 "nbformat_minor": 5
}
