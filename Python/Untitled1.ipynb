{
 "cells": [
  {
   "cell_type": "code",
   "execution_count": 2,
   "id": "2cf2b3bd",
   "metadata": {},
   "outputs": [
    {
     "name": "stdout",
     "output_type": "stream",
     "text": [
      "<class '__main__.Person'>\n"
     ]
    }
   ],
   "source": [
    "class Person:\n",
    "    pass\n",
    "if __name__=='__main__':\n",
    "    p=Person()\n",
    "    print(type(p))"
   ]
  },
  {
   "cell_type": "code",
   "execution_count": 7,
   "id": "91744d9c",
   "metadata": {},
   "outputs": [
    {
     "name": "stdout",
     "output_type": "stream",
     "text": [
      "hoang dev\n",
      "Tan coder\n"
     ]
    }
   ],
   "source": [
    "class person:\n",
    "    #class attribute:\n",
    "    nationality = ' Viet Nam'\n",
    "    #instance atribute:\n",
    "    def __init__(self,name,job):\n",
    "        self.name=name\n",
    "        self.job=job\n",
    "    #method\n",
    "    def greet(self):\n",
    "        print(\"Hello\")\n",
    "    def info(self):\n",
    "        print(self.name+' '+self.job)\n",
    "if __name__ == '__main__':\n",
    "    p1= person(\"hoang\",'dev')\n",
    "    p2= person('Tan','coder')\n",
    "    p1.info()\n",
    "    p2.info()\n",
    "    "
   ]
  }
 ],
 "metadata": {
  "kernelspec": {
   "display_name": "Python 3 (ipykernel)",
   "language": "python",
   "name": "python3"
  },
  "language_info": {
   "codemirror_mode": {
    "name": "ipython",
    "version": 3
   },
   "file_extension": ".py",
   "mimetype": "text/x-python",
   "name": "python",
   "nbconvert_exporter": "python",
   "pygments_lexer": "ipython3",
   "version": "3.11.4"
  }
 },
 "nbformat": 4,
 "nbformat_minor": 5
}
