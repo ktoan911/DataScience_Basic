{
 "cells": [
  {
   "cell_type": "code",
   "execution_count": 2,
   "id": "2af2aee3",
   "metadata": {
    "scrolled": true
   },
   "outputs": [
    {
     "name": "stderr",
     "output_type": "stream",
     "text": [
      "/var/folders/57/k0j2yf6x47g4tvc_ds8t5t6c0000gn/T/ipykernel_5334/3763255786.py:8: MatplotlibDeprecationWarning: The seaborn styles shipped by Matplotlib are deprecated since 3.6, as they no longer correspond to the styles shipped by seaborn. However, they will remain available as 'seaborn-v0_8-<style>'. Alternatively, directly use the seaborn API instead.\n",
      "  plt.style.use('seaborn')\n"
     ]
    }
   ],
   "source": [
    "# Importing the required libraries\n",
    "import pandas as pd\n",
    "pd.set_option('display.max_columns', 50) # Display up to 50 columns at a time\n",
    "import numpy as np\n",
    "import matplotlib.pyplot as plt\n",
    "%matplotlib inline\n",
    "from matplotlib import cm\n",
    "plt.style.use('seaborn')\n",
    "from matplotlib.pylab import rcParams\n",
    "rcParams['figure.figsize'] = 12,5\n",
    "import glob # To read all csv files in the directory\n",
    "import seaborn as sns\n",
    "import calendar\n",
    "from sklearn.preprocessing import StandardScaler\n",
    "from sklearn.model_selection import train_test_split\n",
    "from sklearn.metrics import roc_curve, auc\n",
    "from sklearn.linear_model import LogisticRegression\n",
    "from sklearn.metrics import classification_report\n",
    "from sklearn.decomposition import PCA\n",
    "from sklearn.pipeline import Pipeline\n",
    "from sklearn.ensemble import RandomForestClassifier\n",
    "from sklearn.model_selection import GridSearchCV\n",
    "from sklearn.metrics import confusion_matrix, f1_score, precision_recall_fscore_support\n",
    "import itertools\n",
    "import time\n",
    "import datetime\n"
   ]
  },
  {
   "cell_type": "code",
   "execution_count": 4,
   "id": "6120ddbd",
   "metadata": {},
   "outputs": [
    {
     "data": {
      "text/plain": [
       "['January',\n",
       " 'February',\n",
       " 'March',\n",
       " 'April',\n",
       " 'May',\n",
       " 'June',\n",
       " 'July',\n",
       " 'August',\n",
       " 'September',\n",
       " 'October',\n",
       " 'November',\n",
       " 'December']"
      ]
     },
     "execution_count": 4,
     "metadata": {},
     "output_type": "execute_result"
    }
   ],
   "source": [
    "months = list(calendar.month_name)[1:]\n",
    "months"
   ]
  },
  {
   "cell_type": "code",
   "execution_count": 7,
   "id": "d0f00f45",
   "metadata": {},
   "outputs": [
    {
     "data": {
      "text/plain": [
       "['Monday', 'Tuesday', 'Wednesday', 'Thursday', 'Friday', 'Saturday', 'Sunday']"
      ]
     },
     "execution_count": 7,
     "metadata": {},
     "output_type": "execute_result"
    }
   ],
   "source": [
    "weekdays = list(calendar.day_name)[0:]\n",
    "weekdays"
   ]
  },
  {
   "cell_type": "code",
   "execution_count": 3,
   "id": "8d25c574",
   "metadata": {},
   "outputs": [
    {
     "name": "stdout",
     "output_type": "stream",
     "text": [
      "1\n",
      "2\n",
      "3\n",
      "4\n",
      "5\n",
      "6\n",
      "[1, 3, 5]\n"
     ]
    }
   ],
   "source": [
    "cart = []\n",
    "for _ in range (6):\n",
    "    i = int(input())\n",
    "    cart.append(i)\n",
    "cashier_3 =[]\n",
    "# for item in cart:\n",
    "#     if item%2==0:\n",
    "#         cashier_3.append(item)\n",
    "cashier_3 = [item for item in cart if item%2]\n",
    "print(cashier_3)"
   ]
  },
  {
   "cell_type": "code",
   "execution_count": 7,
   "id": "00b6d415",
   "metadata": {},
   "outputs": [
    {
     "name": "stdout",
     "output_type": "stream",
     "text": [
      "[1, 2, 3, 4, 5]\n",
      "[1, 2, 3, 4, 0]\n"
     ]
    }
   ],
   "source": [
    "list1 = [1,2,3,4,5]\n",
    "list2=[i%5 for i in list1]\n",
    "list2\n"
   ]
  },
  {
   "cell_type": "code",
   "execution_count": 12,
   "id": "f1d3df61",
   "metadata": {},
   "outputs": [
    {
     "name": "stdout",
     "output_type": "stream",
     "text": [
      "4\n",
      "1\n",
      "2\n",
      "3\n",
      "4\n",
      "10\n"
     ]
    }
   ],
   "source": [
    "# a = []\n",
    "# n = int(input())\n",
    "# for _ in range (n):\n",
    "#     i = int(input())\n",
    "#     a.append(i)\n",
    "# print(sum([i for i in a]))\n",
    "\n",
    "# def tong(n):\n",
    "#     tong = 0\n",
    "#     for i in n:\n",
    "#         tong=tong+i\n",
    "#    return tong\n",
    "# n = []\n",
    "# x = int(input())#x=5\n",
    "# for _ in range (x):\n",
    "#     i = int(input())\n",
    "#     n.append(i)\n",
    "# y=tong(n)\n",
    "# print(y)\n",
    "a = []\n",
    "n = int(input())\n",
    "for _ in range (n):\n",
    "    i = int(input())\n",
    "    a.append(i)\n",
    "tong =0\n",
    "for i in a:\n",
    "    tong = tong +i\n",
    "print(tong)\n",
    "    "
   ]
  },
  {
   "cell_type": "code",
   "execution_count": 14,
   "id": "1d90965e",
   "metadata": {},
   "outputs": [
    {
     "name": "stdout",
     "output_type": "stream",
     "text": [
      "2002,2009,2016,2023,2037,2044,2051,2058,2072,2079,2086,2093,2107,2114,2121,2128,2142,2149,2156,2163,2177,2184,2191,2198,2212,2219,2226,2233,2247,2254,2261,2268,2282,2289,2296,2303,2317,2324,2331,2338,2352,2359,2366,2373,2387,2394,2401,2408,2422,2429,2436,2443,2457,2464,2471,2478,2492,2499,2506,2513,2527,2534,2541,2548,2562,2569,2576,2583,2597,2604,2611,2618,2632,2639,2646,2653,2667,2674,2681,2688,2702,2709,2716,2723,2737,2744,2751,2758,2772,2779,2786,2793,2807,2814,2821,2828,2842,2849,2856,2863,2877,2884,2891,2898,2912,2919,2926,2933,2947,2954,2961,2968,2982,2989,2996,3003,3017,3024,3031,3038,3052,3059,3066,3073,3087,3094,3101,3108,3122,3129,3136,3143,3157,3164,3171,3178,3192,3199\n"
     ]
    }
   ],
   "source": [
    "a = []\n",
    "for i in range(2000,3201):\n",
    "    if (i%7==0 and i%5!=0):\n",
    "        a.append(str(i))\n",
    "print(','.join(a))"
   ]
  },
  {
   "cell_type": "code",
   "execution_count": 17,
   "id": "c41882ce",
   "metadata": {
    "scrolled": true
   },
   "outputs": [
    {
     "name": "stdout",
     "output_type": "stream",
     "text": [
      "<class 'float'>\n"
     ]
    }
   ],
   "source": [
    "x =float(2.8)\n",
    "print(type(x))\n"
   ]
  },
  {
   "cell_type": "code",
   "execution_count": 23,
   "id": "810938f4",
   "metadata": {},
   "outputs": [
    {
     "name": "stdout",
     "output_type": "stream",
     "text": [
      "ppp\n"
     ]
    }
   ],
   "source": [
    "x ='chi'\n",
    "print(x.replace('chi','ppp'))\n"
   ]
  },
  {
   "cell_type": "code",
   "execution_count": 25,
   "id": "c731f352",
   "metadata": {},
   "outputs": [
    {
     "name": "stdout",
     "output_type": "stream",
     "text": [
      "False\n"
     ]
    }
   ],
   "source": [
    "print(bool(0))"
   ]
  },
  {
   "cell_type": "code",
   "execution_count": 29,
   "id": "32d117a3",
   "metadata": {},
   "outputs": [
    {
     "name": "stdout",
     "output_type": "stream",
     "text": [
      "[1, 4, 2, 3]\n"
     ]
    }
   ],
   "source": [
    "a = [1,2,3]\n",
    "a.insert(1,4)\n",
    "print(a)"
   ]
  },
  {
   "cell_type": "code",
   "execution_count": 4,
   "id": "eb963368",
   "metadata": {},
   "outputs": [
    {
     "name": "stdout",
     "output_type": "stream",
     "text": [
      "1\n",
      "2\n",
      "3\n",
      "3\n",
      "3\n"
     ]
    }
   ],
   "source": [
    "def maximum(a,b,c):\n",
    "    max_num = a\n",
    "    if (b>max_num):\n",
    "        max_num = b\n",
    "    if (c>max_num):\n",
    "        max_num = c\n",
    "    return max_num\n",
    "a= int(input())\n",
    "b = int(input())\n",
    "c = int(input())\n",
    "print(maximum(a,b,c))\n",
    "print(max(a,b,c))"
   ]
  },
  {
   "cell_type": "code",
   "execution_count": 8,
   "id": "ed5c0875",
   "metadata": {},
   "outputs": [
    {
     "name": "stdout",
     "output_type": "stream",
     "text": [
      "5\n",
      "1\n",
      "2\n",
      "3\n",
      "4\n",
      "5\n",
      "15\n"
     ]
    }
   ],
   "source": [
    "def tong(n):\n",
    "    tong =0 \n",
    "    for i in n:\n",
    "        tong+=i\n",
    "    return tong\n",
    "a = []\n",
    "n = int(input())\n",
    "for _ in range (n):\n",
    "    i =int(input())\n",
    "    a.append(i)\n",
    "print(tong(a))"
   ]
  },
  {
   "cell_type": "code",
   "execution_count": 12,
   "id": "53730a19",
   "metadata": {},
   "outputs": [
    {
     "name": "stdout",
     "output_type": "stream",
     "text": [
      "My name is John, and I am 15\n"
     ]
    }
   ],
   "source": [
    "age =15\n",
    "txt = \"My name is John, and I am {}\"\n",
    "print(txt.format(age)) "
   ]
  },
  {
   "cell_type": "code",
   "execution_count": 24,
   "id": "a697a26b",
   "metadata": {},
   "outputs": [
    {
     "name": "stdout",
     "output_type": "stream",
     "text": [
      "o b c\n",
      "\n",
      "\n",
      "['o', 'b', 'c']\n"
     ]
    }
   ],
   "source": [
    "name = input()\n",
    "a=[]\n",
    "a.append(name.split())\n",
    "name=firstname=middlename=''\n",
    "if len(a)==1:\n",
    "    name = a[0]\n",
    "elif len(a) == 2:\n",
    "    name = a[1]\n",
    "    firstname = a[0]\n",
    "elif len(a)>=3:\n",
    "    firstname = a[0]\n",
    "    middlename = a[1:-1]\n",
    "    name = a[-1]\n",
    "else:\n",
    "    print('invalid')\n",
    "print(firstname);print(middlename);print(name)"
   ]
  },
  {
   "cell_type": "code",
   "execution_count": 22,
   "id": "e72f175c",
   "metadata": {},
   "outputs": [
    {
     "name": "stdout",
     "output_type": "stream",
     "text": [
      "o b c\n",
      "First Name: o\n",
      "Middle Name: ['b']\n",
      "Last Name: c\n"
     ]
    }
   ],
   "source": [
    "name = input()\n",
    "a = name.split()\n",
    "firstname = middlename = lastname = ''\n",
    "\n",
    "if len(a) == 1:\n",
    "    name = a[0]\n",
    "elif len(a) == 2:\n",
    "    name = a[1]\n",
    "    firstname = a[0]\n",
    "elif len(a) >= 3:\n",
    "    firstname = a[0]\n",
    "    middlename = a[1:-1]\n",
    "    lastname = a[-1]\n",
    "else:\n",
    "    print('Invalid input')\n",
    "\n",
    "print('First Name:', firstname)\n",
    "print('Middle Name:', middlename)\n",
    "print('Last Name:', lastname)\n"
   ]
  }
 ],
 "metadata": {
  "kernelspec": {
   "display_name": "Python 3 (ipykernel)",
   "language": "python",
   "name": "python3"
  },
  "language_info": {
   "codemirror_mode": {
    "name": "ipython",
    "version": 3
   },
   "file_extension": ".py",
   "mimetype": "text/x-python",
   "name": "python",
   "nbconvert_exporter": "python",
   "pygments_lexer": "ipython3",
   "version": "3.11.4"
  }
 },
 "nbformat": 4,
 "nbformat_minor": 5
}
