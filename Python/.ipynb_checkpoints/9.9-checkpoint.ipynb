{
 "cells": [
  {
   "cell_type": "code",
   "execution_count": 4,
   "id": "dff6e903",
   "metadata": {},
   "outputs": [
    {
     "name": "stdout",
     "output_type": "stream",
     "text": [
      "Honda\n",
      "Crv\n",
      "2022\n"
     ]
    }
   ],
   "source": [
    "thisDict = {\n",
    "    'brand' : 'Honda',\n",
    "    'model' : 'Crv',\n",
    "    'year' : 2022\n",
    "}\n"
   ]
  },
  {
   "cell_type": "code",
   "execution_count": 5,
   "id": "b590d640",
   "metadata": {},
   "outputs": [
    {
     "name": "stdout",
     "output_type": "stream",
     "text": [
      "Honda\n",
      "Crv\n",
      "2022\n"
     ]
    }
   ],
   "source": [
    "for x in thisDict.values():\n",
    "    print(x)"
   ]
  },
  {
   "cell_type": "code",
   "execution_count": 11,
   "id": "5399a880",
   "metadata": {},
   "outputs": [
    {
     "data": {
      "text/plain": [
       "dict_keys(['brand', 'model', 'year'])"
      ]
     },
     "execution_count": 11,
     "metadata": {},
     "output_type": "execute_result"
    }
   ],
   "source": [
    "thisDict.keys()"
   ]
  },
  {
   "cell_type": "code",
   "execution_count": 10,
   "id": "8b1ea8cf",
   "metadata": {},
   "outputs": [
    {
     "data": {
      "text/plain": [
       "dict_items([('brand', 'Honda'), ('model', 'Crv'), ('year', 2022)])"
      ]
     },
     "execution_count": 10,
     "metadata": {},
     "output_type": "execute_result"
    }
   ],
   "source": [
    "thisDict.items()\n"
   ]
  },
  {
   "cell_type": "code",
   "execution_count": 42,
   "id": "c32aeff2",
   "metadata": {},
   "outputs": [],
   "source": [
    "brand = \"Honda\""
   ]
  },
  {
   "cell_type": "code",
   "execution_count": 43,
   "id": "d2ad9a58",
   "metadata": {},
   "outputs": [
    {
     "name": "stdout",
     "output_type": "stream",
     "text": [
      "brand\n"
     ]
    }
   ],
   "source": [
    "for k,v in thisDict.items():\n",
    "    if v == \"Honda\" :\n",
    "        print(k)\n",
    "        break\n",
    "        "
   ]
  },
  {
   "cell_type": "code",
   "execution_count": 39,
   "id": "7346f40b",
   "metadata": {},
   "outputs": [
    {
     "data": {
      "text/plain": [
       "dict_items([(0, 0), (2, 4), (4, 16)])"
      ]
     },
     "execution_count": 39,
     "metadata": {},
     "output_type": "execute_result"
    }
   ],
   "source": [
    "nums = [0,1,2,3,4]\n",
    "even = {x: x**2 for x in nums if x%2==0}\n",
    "even.items()"
   ]
  },
  {
   "cell_type": "code",
   "execution_count": 6,
   "id": "0a8c2ea5",
   "metadata": {},
   "outputs": [
    {
     "name": "stdout",
     "output_type": "stream",
     "text": [
      "Enter a student's ID: 1\n",
      "Enter student's name: a\n",
      "Enter the student's GPA: 4\n",
      "Enter a student's ID: 2\n",
      "Enter student's name: b\n",
      "Enter the student's GPA: 3.6\n",
      "Enter a student's ID: 3\n",
      "Enter student's name: c\n",
      "Enter the student's GPA: 3.7\n",
      "a\n",
      "b\n",
      "c\n",
      "average =  3.766666666666667\n"
     ]
    }
   ],
   "source": [
    "my_dict = {}\n",
    "num_pairs = 3 \n",
    "\n",
    "for _ in range(num_pairs):\n",
    "    student_id = input(\"Enter a student's ID: \")\n",
    "    name = input(\"Enter student's name: \")\n",
    "    gpa = float(input(\"Enter the student's GPA: \"))  \n",
    "    student_info = {\n",
    "        'name': name,\n",
    "        'gpa': gpa\n",
    "    }\n",
    "    my_dict[student_id] = student_info\n",
    "# high_gpa = {student_id: student_info for student_id, student_info in my_dict.items() if student_info['gpa'] > 3.5}\n",
    "# print(high_gpa.items())\n",
    "count =0\n",
    "total =0\n",
    "for student_id,student_info in my_dict.items():\n",
    "    if student_info['gpa'] >3.5:\n",
    "        print(student_info['name'])\n",
    "        count+=1\n",
    "        total += student_info['gpa']\n",
    "if count == 0 :\n",
    "    print('Khong co ai')\n",
    "else: \n",
    "    print('average = ',total/count)\n",
    "\n",
    "        "
   ]
  },
  {
   "cell_type": "code",
   "execution_count": 12,
   "id": "242391ee",
   "metadata": {},
   "outputs": [
    {
     "name": "stdout",
     "output_type": "stream",
     "text": [
      "Enter a student's ID: 123\n",
      "Enter student's name: hoang\n",
      "Enter the student's GPA: 4\n",
      "Enter a student's ID: 124\n",
      "Enter student's name: ti\n",
      "Enter the student's GPA: 3\n",
      "Enter a student's ID: 125\n",
      "Enter student's name: to\n",
      "Enter the student's GPA: 3.2\n",
      "Enter the ID: 123\n",
      "Found the student ID in the list\n",
      "Enter a new name: hoangggg\n",
      "Enter a new GPA: 3.9\n",
      "\n",
      "Updated List of Students:\n",
      "ID: 123, Name: hoangggg, GPA: 3.9\n",
      "ID: 124, Name: ti, GPA: 3.0\n",
      "ID: 125, Name: to, GPA: 3.2\n"
     ]
    }
   ],
   "source": [
    "list_of_students = {}\n",
    "num_pairs = 3 \n",
    "\n",
    "\n",
    "for _ in range(num_pairs):\n",
    "    student_id = input(\"Enter a student's ID: \")\n",
    "    name = input(\"Enter student's name: \")\n",
    "    gpa = float(input(\"Enter the student's GPA: \"))  \n",
    "    \n",
    "    student_info = {\n",
    "        'Name': name,  \n",
    "        'GPA': gpa     \n",
    "    }\n",
    "    \n",
    "    list_of_students[student_id] = student_info\n",
    "\n",
    "# Search for a student by ID and update their information\n",
    "id = input(\"Enter the ID: \")\n",
    "found = False\n",
    "\n",
    "for k in list_of_students.keys():\n",
    "    if k == id:\n",
    "        found = True\n",
    "        break\n",
    "\n",
    "if found:\n",
    "    print(\"Found the student ID in the list\")\n",
    "    name = input(\"Enter a new name: \")\n",
    "    gpa = float(input(\"Enter a new GPA: \"))\n",
    "    list_of_students[id]['Name'] = name\n",
    "    list_of_students[id]['GPA'] = gpa  \n",
    "else:\n",
    "    print(\"Not found the ID:\", id)\n",
    "\n",
    "# Print the updated list of students\n",
    "print(\"\\nUpdated List of Students:\")\n",
    "for student_id, student_info in list_of_students.items():\n",
    "    print(f\"ID: {student_id}, Name: {student_info['Name']}, GPA: {student_info['GPA']}\")\n"
   ]
  },
  {
   "cell_type": "code",
   "execution_count": null,
   "id": "450040dd",
   "metadata": {},
   "outputs": [],
   "source": []
  }
 ],
 "metadata": {
  "kernelspec": {
   "display_name": "Python 3 (ipykernel)",
   "language": "python",
   "name": "python3"
  },
  "language_info": {
   "codemirror_mode": {
    "name": "ipython",
    "version": 3
   },
   "file_extension": ".py",
   "mimetype": "text/x-python",
   "name": "python",
   "nbconvert_exporter": "python",
   "pygments_lexer": "ipython3",
   "version": "3.11.4"
  }
 },
 "nbformat": 4,
 "nbformat_minor": 5
}
