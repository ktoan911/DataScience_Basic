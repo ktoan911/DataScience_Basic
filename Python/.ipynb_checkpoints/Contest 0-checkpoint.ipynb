{
 "cells": [
  {
   "cell_type": "code",
   "execution_count": 2,
   "id": "ecf39da2",
   "metadata": {},
   "outputs": [
    {
     "name": "stdout",
     "output_type": "stream",
     "text": [
      "5\n",
      "5\n",
      "Hello World !\n",
      "28tech C++ programming !\n"
     ]
    }
   ],
   "source": [
    "x = int(input())\n",
    "print(x)\n",
    "print('Hello World !')\n",
    "print('28tech C++ programming !')"
   ]
  },
  {
   "cell_type": "code",
   "execution_count": 6,
   "id": "4319d314",
   "metadata": {},
   "outputs": [
    {
     "name": "stdout",
     "output_type": "stream",
     "text": [
      "614\n",
      "999999999999990528\n",
      "G\n",
      "19.088\n",
      "2.9648\n",
      "614\n",
      "999999999999990528\n",
      "G\n",
      "19.09\n",
      "2.964800000\n"
     ]
    }
   ],
   "source": [
    "X = int(input())\n",
    "Y = int(input())\n",
    "C = input()\n",
    "F = float(input())\n",
    "D = float(input())  \n",
    "\n",
    "print(X)\n",
    "print(Y)\n",
    "print(C)\n",
    "print(f\"{F:.2f}\") \n",
    "print(f\"{D:.9f}\")  \n"
   ]
  },
  {
   "cell_type": "code",
   "execution_count": 12,
   "id": "25dc1f40",
   "metadata": {},
   "outputs": [
    {
     "name": "stdout",
     "output_type": "stream",
     "text": [
      "93 9 93 98\n",
      "9,93,93,98\n",
      "293\n",
      "9198\n"
     ]
    }
   ],
   "source": [
    "x,y,z,t = map(int,input().split())\n",
    "print(f\"{y},{z},{x},{t}\")\n",
    "print(x+y+z+t)\n",
    "print(x-y+z*t)\n"
   ]
  },
  {
   "cell_type": "code",
   "execution_count": 2,
   "id": "9dd208b1",
   "metadata": {},
   "outputs": [
    {
     "name": "stdout",
     "output_type": "stream",
     "text": [
      "9 8 7 8.5\n",
      "GIOI\n"
     ]
    }
   ],
   "source": [
    "a,b,c,d = map(float,input().split())\n",
    "dtb =float((a + b + c*2 + d*3)/7)\n",
    "if dtb>=8:\n",
    "    print('GIOI')\n",
    "elif 6.5<=dtb<8:\n",
    "    print('KHA')\n",
    "elif 5<=dtb<6.5:\n",
    "    print('TRUNG BINH')\n",
    "else:\n",
    "    print('YES')"
   ]
  },
  {
   "cell_type": "code",
   "execution_count": 5,
   "id": "c251998c",
   "metadata": {},
   "outputs": [
    {
     "name": "stdout",
     "output_type": "stream",
     "text": [
      "10 1 3\n",
      "10\n"
     ]
    }
   ],
   "source": [
    "n,a,b=(map(int,input().split()))\n",
    "if(a<b/2):\n",
    "    print(n*a)\n",
    "elif (b/2<=a):\n",
    "    if(n%2==0):\n",
    "        print(n*b/2)\n",
    "    else:\n",
    "        print((n-1)*b/2+a)"
   ]
  },
  {
   "cell_type": "code",
   "execution_count": 7,
   "id": "0ffefec4",
   "metadata": {},
   "outputs": [
    {
     "name": "stdout",
     "output_type": "stream",
     "text": [
      "a\n",
      "b\n"
     ]
    }
   ],
   "source": [
    "c = input()\n",
    "c = c.lower()\n",
    "a = ord(c)+1\n",
    "print(chr(a))"
   ]
  },
  {
   "cell_type": "code",
   "execution_count": null,
   "id": "e7c8f291",
   "metadata": {},
   "outputs": [],
   "source": [
    "c = input()\n",
    "if c.isupper():\n",
    "    print('UPPER')\n",
    "elif c.islower():\n",
    "    print('LOWER')\n",
    "elif c.isdigit():\n",
    "    print('DIGIT')\n",
    "else:\n",
    "    print('SPECIAL')"
   ]
  },
  {
   "cell_type": "code",
   "execution_count": 10,
   "id": "e82ef1e3",
   "metadata": {},
   "outputs": [
    {
     "name": "stdout",
     "output_type": "stream",
     "text": [
      "3 3\n",
      "4\n"
     ]
    }
   ],
   "source": [
    "m,n = map(int,input().split())\n",
    "a = (m*n)//2\n",
    "if (m*n%2!=0):\n",
    "    print(a)\n",
    "else:\n",
    "    if ((m%2==0 and n%2!=0)or(n%2==0 and m%2!=0)):\n",
    "        print(a)\n",
    "    else:\n",
    "        print(a)"
   ]
  },
  {
   "cell_type": "code",
   "execution_count": 13,
   "id": "798dc825",
   "metadata": {},
   "outputs": [
    {
     "name": "stdout",
     "output_type": "stream",
     "text": [
      "6 6 4\n",
      "4\n"
     ]
    }
   ],
   "source": [
    "n,m,a = map(int,input().split())\n",
    "\n",
    "x = n//a\n",
    "y = m//a\n",
    "\n",
    "if n%a!=0:\n",
    "    x+=1\n",
    "if m%a!=0:\n",
    "    y+=1\n",
    "    \n",
    "print(x*y)\n"
   ]
  },
  {
   "cell_type": "code",
   "execution_count": 15,
   "id": "a034947d",
   "metadata": {},
   "outputs": [
    {
     "name": "stdout",
     "output_type": "stream",
     "text": [
      "5 2 3\n",
      "8\n"
     ]
    }
   ],
   "source": [
    "a,b,k = map(int,input().split())\n",
    "trai = k//2\n",
    "phai = k//2\n",
    "if (k&2!=0):\n",
    "    phai+=1\n",
    "print(phai *a - trai *b)"
   ]
  },
  {
   "cell_type": "code",
   "execution_count": 19,
   "id": "ed2068b7",
   "metadata": {},
   "outputs": [
    {
     "name": "stdout",
     "output_type": "stream",
     "text": [
      "5 31\n",
      "7\n"
     ]
    }
   ],
   "source": [
    "n,s = map(int,input().split())\n",
    "if(s%n==0):\n",
    "    print(s//n)\n",
    "else:\n",
    "    print(s//n+1)"
   ]
  },
  {
   "cell_type": "code",
   "execution_count": 23,
   "id": "9e5984fe",
   "metadata": {},
   "outputs": [
    {
     "name": "stdout",
     "output_type": "stream",
     "text": [
      "10 2\n",
      "6\n"
     ]
    }
   ],
   "source": [
    "n, m = map(int, input().split())\n",
    "\n",
    "\n",
    "min_moves = (n + 1) // 2 \n",
    "max_moves = n\n",
    "\n",
    "\n",
    "min_multiple = ((min_moves + m - 1) // m) * m\n",
    "\n",
    "\n",
    "if min_multiple > max_moves:\n",
    "    print(-1)\n",
    "else:\n",
    "    print(min_multiple)\n"
   ]
  },
  {
   "cell_type": "code",
   "execution_count": 24,
   "id": "1187285b",
   "metadata": {},
   "outputs": [
    {
     "name": "stdout",
     "output_type": "stream",
     "text": [
      "3455\n",
      "38\n"
     ]
    }
   ],
   "source": [
    "n = int(input())\n",
    "a = n//100\n",
    "b = (n%100)//20\n",
    "c = (n%100)%20//10\n",
    "d = ((n%100)%20)%10//5\n",
    "e = (((n%100)%20)%10)%5\n",
    "tong = a + b +c +d +e\n",
    "print(tong)"
   ]
  },
  {
   "cell_type": "code",
   "execution_count": 27,
   "id": "703c8a04",
   "metadata": {},
   "outputs": [
    {
     "name": "stdout",
     "output_type": "stream",
     "text": [
      "1.9\n",
      "2\n"
     ]
    }
   ],
   "source": [
    "a = float(input())\n",
    "print(round(a))"
   ]
  },
  {
   "cell_type": "code",
   "execution_count": 30,
   "id": "3c8540e3",
   "metadata": {},
   "outputs": [
    {
     "name": "stdout",
     "output_type": "stream",
     "text": [
      "46 76 52 40 60 67 \n",
      "11\n",
      "NO\n"
     ]
    }
   ],
   "source": [
    "a1,b1,c1,a2,b2,c2 = map(int,input().split())\n",
    "n = int(input())\n",
    "tong_cup = a1+b1+c1\n",
    "tong_hc = a2+b2+c2\n",
    "num = 0\n",
    "if (tong_cup%5==0):\n",
    "    num += tong_cup//5\n",
    "else:\n",
    "    num+= tong_cup//5+1\n",
    "if(tong_hc%10==0):\n",
    "    num+=tong_hc//10\n",
    "else:\n",
    "    num+=tong_hc//10+1\n",
    "if(num<=n):\n",
    "    print('YES')\n",
    "else:\n",
    "    print('NO')"
   ]
  },
  {
   "cell_type": "code",
   "execution_count": 31,
   "id": "6f56f682",
   "metadata": {},
   "outputs": [
    {
     "name": "stdout",
     "output_type": "stream",
     "text": [
      "5 1 3 4\n",
      "800\n"
     ]
    }
   ],
   "source": [
    "k2, k3, k5, k6 = map(int, input().split())\n",
    "k256 = min(k2, k5, k6)\n",
    "k32 = min(k3, k2 - k256)\n",
    "total = k256 * 256 + k32 * 32\n",
    "print(total)\n"
   ]
  },
  {
   "cell_type": "code",
   "execution_count": 33,
   "id": "ac07d2ef",
   "metadata": {},
   "outputs": [
    {
     "name": "stdout",
     "output_type": "stream",
     "text": [
      "1 1 1 9\n",
      "YES\n"
     ]
    }
   ],
   "source": [
    "a,b,c,n = map(int,input().split())\n",
    "tong = a+b+c+n\n",
    "if tong%3==0:\n",
    "    aim = tong/3\n",
    "    if (aim - a >=0 and aim - b >=0 and aim - c>=0):\n",
    "        print(\"YES\")\n",
    "    else:\n",
    "        print(\"NO\")\n",
    "else:\n",
    "    print('NO')"
   ]
  },
  {
   "cell_type": "code",
   "execution_count": null,
   "id": "2995d6d2",
   "metadata": {},
   "outputs": [],
   "source": [
    "c1, c2, c3, c4, c5 = map(int, input().split())\n",
    "\n",
    "total_coins = c1 + c2 + c3 + c4 + c5\n",
    "\n",
    "if total_coins % 5 == 0 and total_coins > 0:\n",
    "    \n",
    "    b = total_coins // 5\n",
    "    print(b)\n",
    "else:\n",
    "    print(-1)"
   ]
  },
  {
   "cell_type": "code",
   "execution_count": null,
   "id": "6ebc60e6",
   "metadata": {},
   "outputs": [],
   "source": [
    "a, b, c = map(float, input().split())\n",
    "\n",
    "if a == 0:\n",
    "    if b == 0:\n",
    "        if c == 0:\n",
    "            print(\"VO SO NGHIEM\")\n",
    "        else:\n",
    "            print(\"VO NGHIEM\")\n",
    "    else:\n",
    "        x = -c / b\n",
    "        print(\"{:.2f}\".format(x))\n",
    "else:\n",
    "    delta = b**2 - 4*a*c\n",
    "    if delta < 0:\n",
    "        print(\"VO NGHIEM\")\n",
    "    elif delta == 0:\n",
    "        x = -b / (2*a)\n",
    "        print(\"{:.2f}\".format(x))\n",
    "    else:\n",
    "        x1 = (-b - delta**0.5) / (2*a)\n",
    "        x2 = (-b + delta**0.5) / (2*a)\n",
    "        if x1 > x2:\n",
    "            x1, x2 = x2, x1\n",
    "        print(\"{:.2f} {:.2f}\".format(x1, x2))\n"
   ]
  },
  {
   "cell_type": "code",
   "execution_count": 11,
   "id": "993b3298",
   "metadata": {},
   "outputs": [
    {
     "name": "stdout",
     "output_type": "stream",
     "text": [
      "12\n",
      "NO\n"
     ]
    }
   ],
   "source": [
    "import math\n",
    "def isprime(n):\n",
    "    if n ==1:\n",
    "        return False\n",
    "    elif n ==2:\n",
    "        return True\n",
    "    else:\n",
    "        for i in range(2,int(math.sqrt(n)+1)):\n",
    "            if n%i ==0:\n",
    "                return False\n",
    "    return True\n",
    "n = int(input())\n",
    "if (isprime(n)):\n",
    "    print('YES')\n",
    "else: \n",
    "    print('NO')"
   ]
  },
  {
   "cell_type": "code",
   "execution_count": 30,
   "id": "ba22cf37",
   "metadata": {},
   "outputs": [
    {
     "name": "stdout",
     "output_type": "stream",
     "text": [
      "5\n",
      "1 2 3 4 5 \n",
      "5 4 3 2 1 0 \n",
      "0 2 4 \n",
      "1 3 5 \n",
      "0 4 \n",
      "a b c d e \n",
      "v w x y z \n"
     ]
    }
   ],
   "source": [
    "N = int(input())\n",
    "\n",
    "for i in range(1, N + 1):\n",
    "    print(i, end=' ')\n",
    "\n",
    "print()\n",
    "\n",
    "\n",
    "for i in range(N, -1, -1):\n",
    "    print(i, end=' ')\n",
    "\n",
    "print()\n",
    "\n",
    "\n",
    "for i in range(0, N + 1, 2):\n",
    "    print(i, end=' ')\n",
    "\n",
    "print()\n",
    "for i in range(1, N + 1, 2):\n",
    "    print(i, end=' ')\n",
    "\n",
    "print()\n",
    "\n",
    "\n",
    "for i in range(0, N, 4):\n",
    "    print(i, end=' ')\n",
    "\n",
    "print()\n",
    "\n",
    "\n",
    "for i in range(N):\n",
    "    print(chr(ord('a') + i), end=' ')\n",
    "\n",
    "print()\n",
    "\n",
    "\n",
    "for i in range(26 - N, 26):\n",
    "    print(chr(ord('a') + i), end=' ')\n",
    "\n",
    "print()\n"
   ]
  },
  {
   "cell_type": "code",
   "execution_count": 40,
   "id": "40777c54",
   "metadata": {},
   "outputs": [
    {
     "name": "stdout",
     "output_type": "stream",
     "text": [
      "28\n",
      "56\n"
     ]
    }
   ],
   "source": [
    "import math\n",
    "n = int(input())\n",
    "count =1+n\n",
    "for i in range(2,int(math.sqrt(n))+1):\n",
    "    if (n%i==0):\n",
    "        if(i==n//i):\n",
    "            count+=i\n",
    "        else:\n",
    "            count+=i+n//i\n",
    "print(count)"
   ]
  },
  {
   "cell_type": "code",
   "execution_count": 52,
   "id": "26a7820c",
   "metadata": {},
   "outputs": [
    {
     "name": "stdout",
     "output_type": "stream",
     "text": [
      "28\n",
      "6\n",
      "1 2 4 7 14 28 "
     ]
    }
   ],
   "source": [
    "import math\n",
    "n = int(input())\n",
    "count = 0\n",
    "for i in range(1,n+1):\n",
    "    if (n%i==0):\n",
    "        count+=1\n",
    "print(count)\n",
    "for i in range(1,n+1):\n",
    "    if(n%i ==0):\n",
    "        print(i,end = ' ')\n"
   ]
  },
  {
   "cell_type": "code",
   "execution_count": 56,
   "id": "4233fd77",
   "metadata": {},
   "outputs": [
    {
     "name": "stdout",
     "output_type": "stream",
     "text": [
      "49\n",
      "1 4 9 16 25 36 49 "
     ]
    }
   ],
   "source": [
    "from math import *\n",
    "n = int(input())\n",
    "for i in range (1,isqrt(n)+1):\n",
    "    print(i*i,end = ' ')"
   ]
  },
  {
   "cell_type": "code",
   "execution_count": 58,
   "id": "a8aca2a5",
   "metadata": {},
   "outputs": [
    {
     "name": "stdout",
     "output_type": "stream",
     "text": [
      "2\n",
      "2011 2022 2022\n",
      "YES\n"
     ]
    }
   ],
   "source": [
    "n = int(input())\n",
    "numbers = list(map(int, input().split()))\n",
    "found_2022 = False\n",
    "\n",
    "for number in numbers:\n",
    "    if number == 2022:\n",
    "        found_2022 = True\n",
    "        break\n",
    "\n",
    "if found_2022:\n",
    "    print(\"YES\")\n",
    "else:\n",
    "    print(\"NO\")\n"
   ]
  }
 ],
 "metadata": {
  "kernelspec": {
   "display_name": "Python 3 (ipykernel)",
   "language": "python",
   "name": "python3"
  },
  "language_info": {
   "codemirror_mode": {
    "name": "ipython",
    "version": 3
   },
   "file_extension": ".py",
   "mimetype": "text/x-python",
   "name": "python",
   "nbconvert_exporter": "python",
   "pygments_lexer": "ipython3",
   "version": "3.11.4"
  }
 },
 "nbformat": 4,
 "nbformat_minor": 5
}
