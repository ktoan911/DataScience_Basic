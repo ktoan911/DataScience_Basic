{
 "cells": [
  {
   "cell_type": "code",
   "execution_count": 14,
   "id": "f33c7aed",
   "metadata": {},
   "outputs": [
    {
     "name": "stdout",
     "output_type": "stream",
     "text": [
      "200\n",
      "10\n"
     ]
    }
   ],
   "source": [
    "n = int(input())\n",
    "total = n//28\n",
    "empty = total\n",
    "while(empty>=3):\n",
    "    new = empty//3\n",
    "    total+=new\n",
    "    empty = empty%3 + new\n",
    "print(total)"
   ]
  },
  {
   "cell_type": "code",
   "execution_count": 35,
   "id": "1b1836cf",
   "metadata": {},
   "outputs": [
    {
     "name": "stdout",
     "output_type": "stream",
     "text": [
      "5\n",
      "*****\n",
      "*****\n",
      "*****\n",
      "*****\n",
      "*****\n",
      "\n",
      "*****\n",
      "*   *\n",
      "*   *\n",
      "*   *\n",
      "*****\n",
      "\n",
      "*****\n",
      "*###*\n",
      "*###*\n",
      "*###*\n",
      "*****\n",
      "\n",
      "1 1 1 1 1 \n",
      "2       2 \n",
      "3       3 \n",
      "4       4 \n",
      "5 5 5 5 5 \n"
     ]
    }
   ],
   "source": [
    "# Đọc giá trị N từ input\n",
    "N = int(input())\n",
    "\n",
    "# Hình 1: Hình vuông đơn giản\n",
    "for i in range(N):\n",
    "    print('*' * N)\n",
    "print()\n",
    "\n",
    "# Hình 2: Hình vuông rỗng\n",
    "for i in range(N):\n",
    "    if i == 0 or i == N - 1:\n",
    "        print('*' * N)\n",
    "    else:\n",
    "        print('*' + ' ' * (N - 2) + '*')\n",
    "print()\n",
    "\n",
    "# Hình 3: Hình hộp chữ nhật\n",
    "for i in range(N):\n",
    "    if i == 0 or i == N - 1:\n",
    "        print('*' * N)\n",
    "    else:\n",
    "        print('*' + '#' * (N - 2) + '*')\n",
    "print()\n",
    "\n",
    "# Hình 4: Hình tam giác vuông góc trái dưới\n",
    "for i in range(1, N + 1):\n",
    "    for j in range(1, N + 1):\n",
    "        if j == 1 or j == N:\n",
    "            print(i, end=' ')\n",
    "        elif i == 1 or i == N:\n",
    "            print(i, end=' ')\n",
    "        else:\n",
    "            print(' ', end=' ')\n",
    "    print()\n",
    "        \n"
   ]
  },
  {
   "cell_type": "code",
   "execution_count": 41,
   "id": "bfd082cb",
   "metadata": {},
   "outputs": [
    {
     "name": "stdout",
     "output_type": "stream",
     "text": [
      "5\n",
      "*\n",
      "**\n",
      "***\n",
      "****\n",
      "*****\n",
      "\n",
      "*****\n",
      "****\n",
      "***\n",
      "**\n",
      "*\n",
      "\n",
      "    *\n",
      "   **\n",
      "  ***\n",
      " ****\n",
      "*****\n",
      "\n",
      "*****\n",
      " ****\n",
      "  ***\n",
      "   **\n",
      "    *\n",
      "\n",
      "*\n",
      "**\n",
      "* *\n",
      "*  *\n",
      "*****\n"
     ]
    }
   ],
   "source": [
    "\n",
    "N = int(input())\n",
    "\n",
    "\n",
    "for i in range(1, N + 1):\n",
    "    print('*' * i)\n",
    "print()\n",
    "\n",
    "for i in range(N, 0, -1):\n",
    "    print('*' * i)\n",
    "print()\n",
    "\n",
    "for i in range(1, N + 1):\n",
    "    print(' ' * (N - i) + '*' * i)\n",
    "print()\n",
    "\n",
    "for i in range(N, 0, -1):\n",
    "    print(' ' * (N - i) + '*' * i)\n",
    "print()\n",
    "\n",
    "for i in range(N):\n",
    "    for j in range(i + 1):\n",
    "        if j == i or j == 0 or i == N - 1:\n",
    "            print('*', end='')\n",
    "        else:\n",
    "            print(' ', end='')\n",
    "    print()"
   ]
  },
  {
   "cell_type": "code",
   "execution_count": 48,
   "id": "4f477d0f",
   "metadata": {},
   "outputs": [
    {
     "name": "stdout",
     "output_type": "stream",
     "text": [
      "5\n",
      "1 2 3 4 5 \n",
      "6 7 8 9 10 \n",
      "11 12 13 14 15 \n",
      "16 17 18 19 20 \n",
      "21 22 23 24 25 \n",
      "\n",
      "1 2 3 4 5 \n",
      "2 3 4 5 6 \n",
      "3 4 5 6 7 \n",
      "4 5 6 7 8 \n",
      "5 6 7 8 9 \n",
      "\n",
      "~~~~1\n",
      "~~~22\n",
      "~~333\n",
      "~4444\n",
      "55555\n",
      "\n",
      "1 \n",
      "2 6 \n",
      "3 7 10 \n",
      "4 8 11 13 \n",
      "5 9 12 14 15 \n"
     ]
    }
   ],
   "source": [
    "\n",
    "N = int(input())\n",
    "\n",
    "\n",
    "current_number = 1\n",
    "for i in range(1, N + 1):\n",
    "    for j in range(1, N + 1):\n",
    "        print(current_number, end=' ')\n",
    "        current_number += 1\n",
    "    print()\n",
    "print()\n",
    "\n",
    "current_number = 0\n",
    "for i in range(1, N + 1):\n",
    "    for j in range(1, N + 1):\n",
    "        print(current_number + j, end=' ')\n",
    "    current_number += 1\n",
    "    print()\n",
    "print()\n",
    "\n",
    "for i in range(1, N + 1):\n",
    "    for j in range(N - i):\n",
    "        print('~', end='')\n",
    "    for k in range(i):\n",
    "        print(i, end='')\n",
    "    print()\n",
    "print()\n",
    "\n",
    "matrix = [[0] * N for _ in range(N)]\n",
    "\n",
    "current_number = 1\n",
    "for i in range(N):\n",
    "    for j in range(i, N):\n",
    "        matrix[j][i] = current_number\n",
    "        current_number += 1\n",
    "\n",
    "# In ra ma trận theo mẫu\n",
    "for i in range(N):\n",
    "    for j in range(i + 1):\n",
    "        print(matrix[i][j], end=' ')\n",
    "    print()"
   ]
  },
  {
   "cell_type": "code",
   "execution_count": 62,
   "id": "86719fe4",
   "metadata": {},
   "outputs": [
    {
     "name": "stdout",
     "output_type": "stream",
     "text": [
      "2 6\n",
      "2\n"
     ]
    }
   ],
   "source": [
    "import math\n",
    "\n",
    "a, b = map(int, input().split())\n",
    "\n",
    "\n",
    "def gcd(x, y):\n",
    "    return math.gcd(x, y)\n",
    "\n",
    "\n",
    "result = gcd(math.factorial(a), math.factorial(b))\n",
    "\n",
    "\n",
    "print(result)\n"
   ]
  },
  {
   "cell_type": "code",
   "execution_count": null,
   "id": "680b991b",
   "metadata": {},
   "outputs": [],
   "source": [
    "import math\n",
    "\n",
    "# Đọc hai số a và b từ input\n",
    "a, b = map(int, input().split())\n",
    "\n",
    "# Hàm tính ước chung lớn nhất của hai số\n",
    "def gcd(x, y):\n",
    "    while y != 0:\n",
    "        x, y = y, x % y\n",
    "    return x\n",
    "\n",
    "# Hàm tính số lượng ước số nguyên tố p trong n!\n",
    "def count_prime_factors(n, p):\n",
    "    count = 0\n",
    "    while n >= p:\n",
    "        count += n // p\n",
    "        n //= p\n",
    "    return count\n",
    "\n",
    "# Tìm ước chung lớn nhất của a giai thừa và b giai thừa\n",
    "prime_factors = [2, 3, 5, 7, 11, 13]  # Các số nguyên tố nhỏ nhất trong khoảng 0-12\n",
    "result = 1\n",
    "for prime in prime_factors:\n",
    "    a_count = count_prime_factors(a, prime)\n",
    "    b_count = count_prime_factors(b, prime)\n",
    "    common_count = min(a_count, b_count)\n",
    "    result *= prime ** common_count\n",
    "\n",
    "# In kết quả\n",
    "print(result)\n"
   ]
  },
  {
   "cell_type": "code",
   "execution_count": 67,
   "id": "c5d01026",
   "metadata": {},
   "outputs": [
    {
     "name": "stdout",
     "output_type": "stream",
     "text": [
      "4\n",
      "2.6667\n"
     ]
    }
   ],
   "source": [
    "import math\n",
    "def giaithua(n):\n",
    "    if n==0:\n",
    "        return 1\n",
    "    tich = 1\n",
    "    for i in range(1,n+1):\n",
    "        tich*=i\n",
    "    return tich\n",
    "\n",
    "a = int(input())\n",
    "tong = 0\n",
    "for i in range(1,a+1):\n",
    "    tong+=1/(giaithua(i-1))\n",
    "print(f'{tong:.4f}')"
   ]
  },
  {
   "cell_type": "code",
   "execution_count": 70,
   "id": "4ee581ae",
   "metadata": {},
   "outputs": [
    {
     "name": "stdout",
     "output_type": "stream",
     "text": [
      "5 8 28\n",
      "YES\n"
     ]
    }
   ],
   "source": [
    "a,b,n = map(int,input().split())\n",
    "ok =0\n",
    "for i in range (0,n//a+1):\n",
    "    for j in range(0,n//b+1):\n",
    "        if a*i + b*j == n:\n",
    "            ok = 1\n",
    "if (ok ==1):\n",
    "    print('YES')\n",
    "else:\n",
    "    print(\"NO\")"
   ]
  },
  {
   "cell_type": "code",
   "execution_count": 8,
   "id": "db1b9fe0",
   "metadata": {},
   "outputs": [
    {
     "name": "stdout",
     "output_type": "stream",
     "text": [
      "999991020\n",
      "3\n"
     ]
    }
   ],
   "source": [
    "n = int(input())\n",
    "def digitSum(n):\n",
    "    tong =0\n",
    "    while n>0:\n",
    "        tong+=n%10\n",
    "        n//=10\n",
    "    return tong\n",
    "while n>9:\n",
    "    n = digitSum(n)\n",
    "print(n)"
   ]
  },
  {
   "cell_type": "code",
   "execution_count": 9,
   "id": "119e0593",
   "metadata": {},
   "outputs": [
    {
     "name": "stdout",
     "output_type": "stream",
     "text": [
      "5\n",
      "153\n"
     ]
    }
   ],
   "source": [
    "def giaithua(n):\n",
    "    tich = 1\n",
    "    if n==0:\n",
    "        return 1\n",
    "    else:\n",
    "        for i in range(1,n+1):\n",
    "            tich*=i\n",
    "    return tich\n",
    "n =int(input())\n",
    "tong = 0\n",
    "for i in range(1,n+1):\n",
    "    tong+=giaithua(i)\n",
    "print(tong)"
   ]
  },
  {
   "cell_type": "code",
   "execution_count": 14,
   "id": "806a92ce",
   "metadata": {},
   "outputs": [
    {
     "name": "stdout",
     "output_type": "stream",
     "text": [
      "8\n",
      " 8 9 4 1 5 1 6 6 \n",
      "24\n"
     ]
    }
   ],
   "source": [
    "\n",
    "N = int(input())\n",
    "\n",
    "Tong = 0\n",
    "nums = input().split()\n",
    "for num in nums:\n",
    "    if int(num) % 2 == 0:\n",
    "        Tong += int(num)\n",
    "\n",
    "print(Tong)\n"
   ]
  },
  {
   "cell_type": "code",
   "execution_count": 17,
   "id": "2c239144",
   "metadata": {},
   "outputs": [
    {
     "name": "stdout",
     "output_type": "stream",
     "text": [
      "7\n",
      "3\n",
      "2 2 3\n"
     ]
    }
   ],
   "source": [
    "n =int(input())\n",
    "if (n==1):\n",
    "    print('-1')\n",
    "elif (n%2==0):\n",
    "    print(n//2)\n",
    "    for _ in range(n//2):\n",
    "        print('2',end =' ')\n",
    "else:\n",
    "    print(n//2)\n",
    "    for _ in range(n//2 -1):\n",
    "        print('2',end =' ')\n",
    "    print('3')"
   ]
  }
 ],
 "metadata": {
  "kernelspec": {
   "display_name": "Python 3 (ipykernel)",
   "language": "python",
   "name": "python3"
  },
  "language_info": {
   "codemirror_mode": {
    "name": "ipython",
    "version": 3
   },
   "file_extension": ".py",
   "mimetype": "text/x-python",
   "name": "python",
   "nbconvert_exporter": "python",
   "pygments_lexer": "ipython3",
   "version": "3.11.4"
  }
 },
 "nbformat": 4,
 "nbformat_minor": 5
}
