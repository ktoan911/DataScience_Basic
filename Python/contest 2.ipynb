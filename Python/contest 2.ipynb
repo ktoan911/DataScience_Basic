{
 "cells": [
  {
   "cell_type": "code",
   "execution_count": 3,
   "id": "44424090",
   "metadata": {},
   "outputs": [
    {
     "name": "stdout",
     "output_type": "stream",
     "text": [
      "16\n",
      "5\n",
      "31\n"
     ]
    }
   ],
   "source": [
    "import math\n",
    "def demuoc(n):\n",
    "    cnt = 0\n",
    "    for i in range(1,math.isqrt(n)+1):\n",
    "        if n%i==0:\n",
    "            cnt+=1\n",
    "            if n//i!=i:\n",
    "                cnt+=1\n",
    "    return cnt\n",
    "def tonguoc(n):\n",
    "    tong =0\n",
    "    for i in range(1,math.isqrt(n)+1):\n",
    "        if n%i==0:\n",
    "            tong+=i\n",
    "            if n//i!=i:\n",
    "                tong+=n//i\n",
    "    return tong\n",
    "if __name__ == \"__main__\":\n",
    "    n = int(input())\n",
    "    print(demuoc(n))\n",
    "    print(tonguoc(n))"
   ]
  }
 ],
 "metadata": {
  "kernelspec": {
   "display_name": "Python 3 (ipykernel)",
   "language": "python",
   "name": "python3"
  },
  "language_info": {
   "codemirror_mode": {
    "name": "ipython",
    "version": 3
   },
   "file_extension": ".py",
   "mimetype": "text/x-python",
   "name": "python",
   "nbconvert_exporter": "python",
   "pygments_lexer": "ipython3",
   "version": "3.11.4"
  }
 },
 "nbformat": 4,
 "nbformat_minor": 5
}
