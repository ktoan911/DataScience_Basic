{
 "cells": [
  {
   "cell_type": "code",
   "execution_count": 8,
   "id": "52561fce",
   "metadata": {},
   "outputs": [
    {
     "name": "stdout",
     "output_type": "stream",
     "text": [
      "Starting engine Engine for car Car...Wroom, wroom!\n",
      "Starting engine V8Engine for car RaceCar...Wroom, wroom!\n",
      "Starting engine ElectricEngine for car CityCar...Wroom, wroom!\n",
      "Starting engine V8Engine for car F1Car...Wroom, wroom!\n"
     ]
    }
   ],
   "source": [
    "class Engine:\n",
    "    def start(self):\n",
    "        pass\n",
    "    \n",
    "    def stop(self):\n",
    "        pass\n",
    "\n",
    "class ElectricEngine(Engine):\n",
    "    pass\n",
    "\n",
    "class V8Engine(Engine):\n",
    "    pass\n",
    "\n",
    "class Car:\n",
    "    engine_cls = Engine\n",
    "    \n",
    "    def __init__(self):\n",
    "        self.engine = self.engine_cls()\n",
    "        \n",
    "    def start(self):\n",
    "        print(\n",
    "            'Starting engine {0} for car {1}...Wroom, wroom!'.format(\n",
    "                self.engine.__class__.__name__,\n",
    "                self.__class__.__name__)\n",
    "        )\n",
    "        self.engine.start()\n",
    "        \n",
    "    def stop(self):\n",
    "        self.engine.stop()\n",
    "\n",
    "class RaceCar(Car):\n",
    "    engine_cls = V8Engine\n",
    "\n",
    "class CityCar(Car):\n",
    "    engine_cls = ElectricEngine\n",
    "\n",
    "class F1Car(RaceCar):\n",
    "    pass\n",
    "\n",
    "car = Car()\n",
    "racecar = RaceCar()\n",
    "citycar = CityCar()\n",
    "f1car = F1Car()\n",
    "\n",
    "cars = [car, racecar, citycar, f1car]\n",
    "                                                                                                                                                                                                                                                                                                                                                                                                                                            \n",
    "for car in cars:\n",
    "    car.start()\n"
   ]
  },
  {
   "cell_type": "code",
   "execution_count": 23,
   "id": "654f18b5",
   "metadata": {
    "scrolled": true
   },
   "outputs": [
    {
     "name": "stdout",
     "output_type": "stream",
     "text": [
      "17\n"
     ]
    }
   ],
   "source": [
    "class PersonPythonic:\n",
    "    def __init__(self, age):\n",
    "        self._age = age\n",
    "\n",
    "    @property\n",
    "    def age(self):\n",
    "        return self._age\n",
    "\n",
    "    @age.setter\n",
    "    def age(self, age):\n",
    "        if 18 <= age <= 99:\n",
    "            self._age = age\n",
    "        else:\n",
    "            raise ValueError('Age must be within [18, 99]')\n",
    "\n",
    "person = PersonPythonic(29)\n",
    "\n",
    "try:\n",
    "    person.age = 17  # This should raise a ValueError\n",
    "except ValueError as e:\n",
    "    print(e)\n",
    "\n",
    "print(person.age)  # This will still print the original age (29)\n",
    "class PersonPythonic:\n",
    "    def __init__(self, age):\n",
    "        self._age = age\n",
    "\n",
    "    @property\n",
    "    def age(self):\n",
    "        return self._age\n",
    "\n",
    "    @age.setter\n",
    "    def age(self, age):\n",
    "        if 18 <= age <= 99:\n",
    "            self._age = age\n",
    "        else:\n",
    "            raise ValueError('Age must be within [18, 99]')\n",
    "\n",
    "person = PersonPythonic(9)\n",
    "print(person.age)\n"
   ]
  },
  {
   "cell_type": "code",
   "execution_count": 27,
   "id": "11a718cd",
   "metadata": {},
   "outputs": [
    {
     "name": "stdout",
     "output_type": "stream",
     "text": [
      "Enter Student ID: 1\n",
      "Enter Student Name: 1\n",
      "Enter Grade 1: 1\n",
      "Enter Grade 2: 1\n",
      "Enter Grade 3: 1\n",
      "Enter Student ID: 1\n",
      "Enter Student Name: 1\n",
      "Enter Grade 1: 1\n",
      "Enter Grade 2: 1\n",
      "Enter Grade 3: 1\n",
      "Student 1 (ID: 1)\n",
      "Grades: [1.0, 1.0, 1.0]\n",
      "Average Grade: 1.0\n",
      "\n",
      "Student 1 (ID: 1)\n",
      "Grades: [1.0, 1.0, 1.0]\n",
      "Average Grade: 1.0\n"
     ]
    }
   ],
   "source": [
    "class Student:\n",
    "    def __init__(self, student_id, student_name, grades):\n",
    "        self.student_id = student_id\n",
    "        self.student_name = student_name\n",
    "        self.grades = grades\n",
    "\n",
    "    def get_average_grade(self):\n",
    "        if len(self.grades) == 0:\n",
    "            return 0.0\n",
    "        total = sum(self.grades)\n",
    "        return total / len(self.grades)\n",
    "\n",
    "def input_student_info():\n",
    "    student_id = int(input(\"Enter Student ID: \"))\n",
    "    student_name = input(\"Enter Student Name: \")\n",
    "    grades = []\n",
    "    for _ in range(3):\n",
    "        grade = float(input(f\"Enter Grade {_ + 1}: \"))\n",
    "        grades.append(grade)\n",
    "    return Student(student_id, student_name, grades)\n",
    "\n",
    "def main():\n",
    "    student1 = input_student_info()\n",
    "    student2 = input_student_info()\n",
    "\n",
    "    print(f\"Student {student1.student_name} (ID: {student1.student_id})\")\n",
    "    print(f\"Grades: {student1.grades}\")\n",
    "    print(f\"Average Grade: {student1.get_average_grade()}\")\n",
    "\n",
    "    print(f\"\\nStudent {student2.student_name} (ID: {student2.student_id})\")\n",
    "    print(f\"Grades: {student2.grades}\")\n",
    "    print(f\"Average Grade: {student2.get_average_grade()}\")\n",
    "main()\n"
   ]
  }
 ],
 "metadata": {
  "kernelspec": {
   "display_name": "Python 3 (ipykernel)",
   "language": "python",
   "name": "python3"
  },
  "language_info": {
   "codemirror_mode": {
    "name": "ipython",
    "version": 3
   },
   "file_extension": ".py",
   "mimetype": "text/x-python",
   "name": "python",
   "nbconvert_exporter": "python",
   "pygments_lexer": "ipython3",
   "version": "3.11.4"
  }
 },
 "nbformat": 4,
 "nbformat_minor": 5
}
