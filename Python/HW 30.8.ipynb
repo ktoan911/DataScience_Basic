{
 "cells": [
  {
   "cell_type": "code",
   "execution_count": 15,
   "id": "be38504e",
   "metadata": {},
   "outputs": [
    {
     "name": "stdout",
     "output_type": "stream",
     "text": [
      "1 2 3\n",
      "So lon nhat trong ba so la:  3\n"
     ]
    }
   ],
   "source": [
    "# a = input('Nhap so a: ')\n",
    "# b = input('Nhap so b: ')\n",
    "# c = input('Nhap so c: ')\n",
    "a, b, c = input().split()\n",
    "if (a>=b):\n",
    "    max=a\n",
    "else:\n",
    "    max=b\n",
    "if(c>=max):\n",
    "    max=c\n",
    "print('So lon nhat trong ba so la: ',max)\n",
    "    "
   ]
  },
  {
   "cell_type": "code",
   "execution_count": null,
   "id": "cacc4464",
   "metadata": {},
   "outputs": [],
   "source": [
    "n = int(input('Nhap so n: '))\n",
    "count=0\n",
    "total=0\n",
    "for i in range(0,n):\n",
    "    num = int(input())\n",
    "    if num>0:\n",
    "        if (num%2==0 and num%5==0):\n",
    "            count+=1\n",
    "            total+=num\n",
    "    else:\n",
    "        break;\n",
    "if(count==0):\n",
    "    print('Khong co so nao chia het cho 2 va 5')\n",
    "else: \n",
    "    average=total/count\n",
    "    print('Count:', count)\n",
    "    print('Average:', average)\n"
   ]
  },
  {
   "cell_type": "code",
   "execution_count": null,
   "id": "e2c3542f",
   "metadata": {},
   "outputs": [],
   "source": [
    "fullname = input('Enter your name: ')\n",
    "names = fullname.split()\n",
    "\n",
    "familyname = ''\n",
    "middlename = ''\n",
    "name = ''\n",
    "\n",
    "if len(names) == 1:\n",
    "    name = names[0]\n",
    "elif len(names) == 2:\n",
    "    familyname = names[0]\n",
    "    name = names[1]\n",
    "elif len(names) == 3:\n",
    "    familyname = names[0]\n",
    "    middlename = names[1]\n",
    "    name = names[2]\n",
    "elif len(names) >= 4:\n",
    "    familyname = names[0]\n",
    "    middlename = ' '.join(names[1:-1]) \n",
    "    name = names[-1]\n",
    "else:\n",
    "    print(\"Ten khong hop le\")\n",
    "\n",
    "print('Family name:', familyname)\n",
    "print('Middle name:', middlename)\n",
    "print('Name:', name)\n"
   ]
  },
  {
   "cell_type": "code",
   "execution_count": null,
   "id": "c5e3f195",
   "metadata": {},
   "outputs": [],
   "source": []
  }
 ],
 "metadata": {
  "kernelspec": {
   "display_name": "Python 3 (ipykernel)",
   "language": "python",
   "name": "python3"
  },
  "language_info": {
   "codemirror_mode": {
    "name": "ipython",
    "version": 3
   },
   "file_extension": ".py",
   "mimetype": "text/x-python",
   "name": "python",
   "nbconvert_exporter": "python",
   "pygments_lexer": "ipython3",
   "version": "3.11.4"
  }
 },
 "nbformat": 4,
 "nbformat_minor": 5
}
