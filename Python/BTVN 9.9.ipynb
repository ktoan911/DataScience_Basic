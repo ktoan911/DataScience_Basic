{
 "cells": [
  {
   "cell_type": "code",
   "execution_count": 1,
   "id": "243c5f34",
   "metadata": {},
   "outputs": [
    {
     "name": "stdout",
     "output_type": "stream",
     "text": [
      "1\n",
      "2\n",
      "3\n"
     ]
    }
   ],
   "source": [
    "def sum(a,b):\n",
    "    return a+b\n",
    "a = int(input())\n",
    "b = int(input())\n",
    "print(sum(a,b))\n"
   ]
  },
  {
   "cell_type": "code",
   "execution_count": 4,
   "id": "abeea685",
   "metadata": {},
   "outputs": [
    {
     "name": "stdout",
     "output_type": "stream",
     "text": [
      "Enter the text: 3? 3\n",
      "'3?': 1 \n",
      "'3': 1 \n"
     ]
    }
   ],
   "source": [
    "def countfrequency(text):\n",
    "    words = text.split()\n",
    "    frequency={}\n",
    "    for word in words:\n",
    "        if word in frequency:\n",
    "            frequency[word]+=1\n",
    "        else:\n",
    "            frequency[word]=1\n",
    "    return frequency\n",
    "text = input(\"Enter the text: \")\n",
    "word_frequency = countfrequency(text)\n",
    "for word, frequency in word_frequency.items():\n",
    "    print(f\"'{word}': {frequency} \")"
   ]
  },
  {
   "cell_type": "code",
   "execution_count": 8,
   "id": "8c43d659",
   "metadata": {},
   "outputs": [
    {
     "name": "stdout",
     "output_type": "stream",
     "text": [
      "1\n",
      "Integer as String: 1\n"
     ]
    }
   ],
   "source": [
    "def int_to_string_and_print(integer_value):\n",
    "    string_value = str(integer_value)\n",
    "    print(\"Integer as String:\", string_value)\n",
    "integer_value = int(input())\n",
    "int_to_string_and_print(integer_value)\n"
   ]
  },
  {
   "cell_type": "code",
   "execution_count": 7,
   "id": "fbe72cf5",
   "metadata": {},
   "outputs": [
    {
     "name": "stdout",
     "output_type": "stream",
     "text": [
      "1\n",
      "60\n"
     ]
    }
   ],
   "source": [
    "def convert(a):\n",
    "    return a*60\n",
    "a = int(input())\n",
    "print(convert(a))"
   ]
  },
  {
   "cell_type": "code",
   "execution_count": 11,
   "id": "1bf9b0c3",
   "metadata": {},
   "outputs": [
    {
     "name": "stdout",
     "output_type": "stream",
     "text": [
      "Enter the number of elements in the list: 4\n",
      "Enter a number: 12\n",
      "Enter a number: 31\n",
      "Enter a number: 11\n",
      "Enter a number: 11\n",
      "Sum of the numbers in the list: 65\n"
     ]
    }
   ],
   "source": [
    "def sum_of_a_list(list1):\n",
    "    total_sum = 0\n",
    "    for x in list1:\n",
    "        total_sum += x\n",
    "    return total_sum\n",
    "\n",
    "num = int(input('Enter the number of elements in the list: '))\n",
    "list1 = []\n",
    "\n",
    "for _ in range(num):\n",
    "    element = int(input('Enter a number: '))\n",
    "    list1.append(element)\n",
    "\n",
    "result = sum_of_a_list(list1)\n",
    "print(\"Sum of the numbers in the list:\", result)\n"
   ]
  },
  {
   "cell_type": "code",
   "execution_count": 1,
   "id": "f26b5dcc",
   "metadata": {},
   "outputs": [
    {
     "name": "stdout",
     "output_type": "stream",
     "text": [
      "Enter the number of elements in the list: 2\n",
      "Enter a number: 2\n",
      "Enter a number: 3\n",
      "Largest number in the list: 3\n"
     ]
    }
   ],
   "source": [
    "def find_largest(list1):\n",
    "    max = -1e9+1\n",
    "    for x in list1:\n",
    "        if(x>=max):\n",
    "            max = x\n",
    "    return max\n",
    "num = int(input('Enter the number of elements in the list: '))\n",
    "list1=[]\n",
    "for _ in range(num):\n",
    "    element = int(input('Enter a number: '))\n",
    "    list1.append(element)\n",
    "result = find_largest(list1)\n",
    "print('Largest number in the list:',result)\n"
   ]
  },
  {
   "cell_type": "code",
   "execution_count": 2,
   "id": "7f71d188",
   "metadata": {},
   "outputs": [
    {
     "name": "stdout",
     "output_type": "stream",
     "text": [
      "2\n",
      "0\n",
      "7200\n"
     ]
    }
   ],
   "source": [
    "def convert(a,b):\n",
    "    return a*3600+b*60\n",
    "a=int(input())\n",
    "b=int(input())\n",
    "print(convert(a,b))"
   ]
  },
  {
   "cell_type": "code",
   "execution_count": 7,
   "id": "f4a1fff5",
   "metadata": {},
   "outputs": [
    {
     "name": "stdout",
     "output_type": "stream",
     "text": [
      "3\n",
      "3\n",
      "Enter an operator (+, -, *, /): /\n",
      "1.0\n"
     ]
    }
   ],
   "source": [
    "def calculator(a,operator,b):\n",
    "    if operator == '+':\n",
    "        result = a+b\n",
    "    elif operator == '-':\n",
    "        result  = a - b\n",
    "    elif operator == '*':\n",
    "        result = a*b\n",
    "    elif operator == '/':\n",
    "        if b!=0:\n",
    "            result = a/b\n",
    "        else:\n",
    "            print('Khong chia duoc cho 0')\n",
    "    else:\n",
    "        print('Phep tinh khong hop le')\n",
    "    return result\n",
    "a = float(input())\n",
    "b = float(input())\n",
    "operator = input(\"Enter an operator (+, -, *, /): \")\n",
    "result = calculator(a,operator,b)\n",
    "print(result)"
   ]
  },
  {
   "cell_type": "code",
   "execution_count": 2,
   "id": "13a9865d",
   "metadata": {},
   "outputs": [
    {
     "name": "stdout",
     "output_type": "stream",
     "text": [
      "abcde\n",
      "a\n",
      "Character Difference Count: 4\n"
     ]
    }
   ],
   "source": [
    "def algor_differ(s1, s2):\n",
    "    diff_count = 0\n",
    "    min_len = min(len(s1), len(s2))\n",
    "    for i in range(min_len):\n",
    "        if s1[i] != s2[i]:\n",
    "            diff_count += 1\n",
    "    diff_count += abs(len(s1) - len(s2))\n",
    "    return diff_count\n",
    "string1 = input()\n",
    "string2 = input()\n",
    "difference_count = algor_differ(string1, string2)\n",
    "print(f\"Character Difference Count: {difference_count}\")\n"
   ]
  }
 ],
 "metadata": {
  "kernelspec": {
   "display_name": "Python 3 (ipykernel)",
   "language": "python",
   "name": "python3"
  },
  "language_info": {
   "codemirror_mode": {
    "name": "ipython",
    "version": 3
   },
   "file_extension": ".py",
   "mimetype": "text/x-python",
   "name": "python",
   "nbconvert_exporter": "python",
   "pygments_lexer": "ipython3",
   "version": "3.11.4"
  }
 },
 "nbformat": 4,
 "nbformat_minor": 5
}
