{
 "cells": [
  {
   "cell_type": "code",
   "execution_count": null,
   "id": "6a376ff4",
   "metadata": {},
   "outputs": [],
   "source": [
    "def reverse(x):\n",
    "    return x[::-1]"
   ]
  },
  {
   "cell_type": "code",
   "execution_count": null,
   "id": "0a8a5bfe",
   "metadata": {},
   "outputs": [],
   "source": [
    "def find_max(x):\n",
    "    return max(x)"
   ]
  },
  {
   "cell_type": "code",
   "execution_count": null,
   "id": "f7c06d91",
   "metadata": {},
   "outputs": [],
   "source": [
    "def find_min(x):\n",
    "    return min(x)"
   ]
  },
  {
   "cell_type": "code",
   "execution_count": 8,
   "id": "a346a23f",
   "metadata": {},
   "outputs": [
    {
     "name": "stdout",
     "output_type": "stream",
     "text": [
      "Enter the number of elements in the list: 5\n",
      "Enter a number: 12\n",
      "Enter a number: 2\n",
      "Enter a number: 3\n",
      "Enter a number: 4\n",
      "Enter a number: 5\n",
      "2\n",
      "3\n",
      "5\n"
     ]
    }
   ],
   "source": [
    "def is_prime(num):\n",
    "    if num <= 1:\n",
    "        return False\n",
    "    for i in range(2, num):\n",
    "        if num % i == 0:\n",
    "            return False\n",
    "    return True\n",
    "\n",
    "list1 = []\n",
    "# x = int(input(\"Enter the number of elements in the list: \"))\n",
    "# for a in range(x):\n",
    "#     num = int(input(\"Enter a number: \"))\n",
    "#     list1.append(num)\n",
    "\n",
    "# for i in list1:\n",
    "#     if is_prime(i):\n",
    "#         print(i)\n"
   ]
  },
  {
   "cell_type": "code",
   "execution_count": 8,
   "id": "17515223",
   "metadata": {},
   "outputs": [
    {
     "name": "stdout",
     "output_type": "stream",
     "text": [
      "Enter the number of elements in the list: 3\n",
      "Enter a number: 1\n",
      "Enter a number: 2\n",
      "Enter a number: 3\n",
      "1, 2, 3\n"
     ]
    }
   ],
   "source": [
    "def convert(x):\n",
    "    return ', '.join(str(v) for v in x)\n",
    "\n",
    "x = int(input(\"Enter the number of elements in the list: \"))\n",
    "list1 = [] \n",
    "\n",
    "for a in range(x):\n",
    "    num = input(\"Enter a number: \")\n",
    "    list1.append(num)\n",
    "\n",
    "converted_list = [convert(i) for i in list1]\n",
    "result = ', '.join(converted_list)\n",
    "print(result) \n",
    "\n"
   ]
  },
  {
   "cell_type": "code",
   "execution_count": 4,
   "id": "19483dad",
   "metadata": {},
   "outputs": [
    {
     "name": "stdout",
     "output_type": "stream",
     "text": [
      "Enter the number of elements in the list: 4\n",
      "Enter a number: 1\n",
      "Enter a number: 2\n",
      "Enter a number: 3\n",
      "Enter a number: 4\n",
      "2\n",
      "4\n"
     ]
    }
   ],
   "source": [
    "def find_even(x):\n",
    "    if x<0:\n",
    "        return false\n",
    "    elif x%2==0:\n",
    "        return True\n",
    "    else:\n",
    "        return False\n",
    "list1=[]\n",
    "x = int(input(\"Enter the number of elements in the list: \"))\n",
    "for a in range(x):\n",
    "    num = int(input(\"Enter a number: \"))\n",
    "    list1.append(num)\n",
    "for i in list1:\n",
    "    if(find_even(i)):\n",
    "        print(i)"
   ]
  },
  {
   "cell_type": "code",
   "execution_count": 9,
   "id": "5dd252d2",
   "metadata": {},
   "outputs": [
    {
     "name": "stdout",
     "output_type": "stream",
     "text": [
      "Enter the number of elements in the list: 3\n",
      "Enter a number: 1\n",
      "Enter a number: 3\n",
      "Enter a number: 2\n"
     ]
    },
    {
     "data": {
      "text/plain": [
       "[1, 2, 3]"
      ]
     },
     "execution_count": 9,
     "metadata": {},
     "output_type": "execute_result"
    }
   ],
   "source": [
    "def sapxep(x:list):\n",
    "    for i in range(0 ,len(x)-1):\n",
    "        for j in range (i+1,len(x)):\n",
    "            if x[j]<x[i]:\n",
    "                tmp = x[j]\n",
    "                x[j]=x[i]\n",
    "                x[i]=tmp\n",
    "    return x\n",
    "list1=[]\n",
    "x = int(input(\"Enter the number of elements in the list: \"))\n",
    "for a in range(x):\n",
    "    num = int(input(\"Enter a number: \"))\n",
    "    list1.append(num)\n",
    "sapxep(list1)"
   ]
  },
  {
   "cell_type": "code",
   "execution_count": 15,
   "id": "7d6a8da1",
   "metadata": {},
   "outputs": [
    {
     "data": {
      "text/plain": [
       "2"
      ]
     },
     "execution_count": 15,
     "metadata": {},
     "output_type": "execute_result"
    }
   ],
   "source": [
    "def find_index(x:list,num):\n",
    "    for i in range(len(x)):\n",
    "         if x[i] == num:\n",
    "                return i\n",
    "find_index([1,2,3],3)"
   ]
  },
  {
   "cell_type": "code",
   "execution_count": 18,
   "id": "9b2cb268",
   "metadata": {},
   "outputs": [
    {
     "data": {
      "text/plain": [
       "[1, 2]"
      ]
     },
     "execution_count": 18,
     "metadata": {},
     "output_type": "execute_result"
    }
   ],
   "source": [
    "def remove(x:list,num):\n",
    "    for i in range(len(x)):\n",
    "        if x[i] == num:\n",
    "            del x[i]\n",
    "            return x\n",
    "remove ([1,2,3],3)"
   ]
  },
  {
   "cell_type": "code",
   "execution_count": 22,
   "id": "0ca40a72",
   "metadata": {},
   "outputs": [
    {
     "name": "stdout",
     "output_type": "stream",
     "text": [
      "{1: 1, 2: 2, 3: 3, 4: 4}\n"
     ]
    }
   ],
   "source": [
    "def count_frequency(input_list):\n",
    "    frequency = {} \n",
    "    for item in input_list:\n",
    "        if item in frequency:\n",
    "            frequency[item] += 1\n",
    "        else:\n",
    "            frequency[item] = 1\n",
    "    return frequency\n",
    "\n",
    "my_list = [1, 2, 2, 3, 3, 3, 4, 4, 4, 4]\n",
    "result = count_frequency(my_list)\n",
    "print(result)\n"
   ]
  }
 ],
 "metadata": {
  "kernelspec": {
   "display_name": "Python 3 (ipykernel)",
   "language": "python",
   "name": "python3"
  },
  "language_info": {
   "codemirror_mode": {
    "name": "ipython",
    "version": 3
   },
   "file_extension": ".py",
   "mimetype": "text/x-python",
   "name": "python",
   "nbconvert_exporter": "python",
   "pygments_lexer": "ipython3",
   "version": "3.11.4"
  }
 },
 "nbformat": 4,
 "nbformat_minor": 5
}
