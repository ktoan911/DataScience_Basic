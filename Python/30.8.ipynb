{
 "cells": [
  {
   "cell_type": "code",
   "execution_count": null,
   "id": "4ed95f86",
   "metadata": {},
   "outputs": [],
   "source": [
    "for i in range(1000,2001):\n",
    "    if(i%7==0 and not i%5==0):\n",
    "        print(i)"
   ]
  },
  {
   "cell_type": "code",
   "execution_count": 36,
   "id": "f4c7f8fe",
   "metadata": {},
   "outputs": [
    {
     "name": "stdout",
     "output_type": "stream",
     "text": [
      "7\n",
      "5040\n"
     ]
    }
   ],
   "source": [
    "n=int(input())\n",
    "i=1\n",
    "num=1\n",
    "while i<n+1:\n",
    "    num*=i\n",
    "    i+=1\n",
    "print(num)"
   ]
  },
  {
   "cell_type": "code",
   "execution_count": 40,
   "id": "d2cc9c62",
   "metadata": {},
   "outputs": [
    {
     "name": "stdout",
     "output_type": "stream",
     "text": [
      "bciueavbo\n",
      "BCIUEAVBO\n"
     ]
    }
   ],
   "source": [
    "s = input()\n",
    "print(s.upper())"
   ]
  },
  {
   "cell_type": "code",
   "execution_count": 2,
   "id": "f82ba2ea",
   "metadata": {},
   "outputs": [
    {
     "name": "stdout",
     "output_type": "stream",
     "text": [
      "haong 123\n",
      "LETTER 5\n",
      "DIGITS 3\n"
     ]
    }
   ],
   "source": [
    "s = input().lower()\n",
    "letters=0\n",
    "digits=0\n",
    "for char in s:\n",
    "    if '0'<=char<='9':\n",
    "        digits+=1\n",
    "    if 'a'<=char<='z':\n",
    "        letters+=1\n",
    "print('LETTER',letters)\n",
    "print('DIGITS',digits)"
   ]
  },
  {
   "cell_type": "code",
   "execution_count": 47,
   "id": "edab9332",
   "metadata": {},
   "outputs": [
    {
     "name": "stdout",
     "output_type": "stream",
     "text": [
      "hoang GAU\n",
      "UPPER 3\n",
      "LOWER 5\n"
     ]
    }
   ],
   "source": [
    "s=input()\n",
    "lower=upper=0\n",
    "for char in s:\n",
    "    if 'a'<=char<='z':\n",
    "        lower+=1\n",
    "    if 'A'<=char<='Z':\n",
    "        upper+=1\n",
    "print('UPPER',upper)\n",
    "print('LOWER',lower)"
   ]
  },
  {
   "cell_type": "code",
   "execution_count": 11,
   "id": "82fb37d3",
   "metadata": {},
   "outputs": [
    {
     "name": "stdout",
     "output_type": "stream",
     "text": [
      "Enter a list of numbers: 1,2,3\n",
      "Squares of odd numbers: [1, 9]\n"
     ]
    }
   ],
   "source": [
    "input_string = input(\"Enter a list of numbers: \")\n",
    "input_list = input_string.split(',')\n",
    "listofnumbers = [int(num) for num in input_list]\n",
    "x = [num ** 2 for num in listofnumbers if num % 2 == 1]\n",
    "print(\"Squares of odd numbers:\", x)\n"
   ]
  },
  {
   "cell_type": "code",
   "execution_count": 29,
   "id": "70bfc9c7",
   "metadata": {
    "scrolled": true
   },
   "outputs": [
    {
     "name": "stdout",
     "output_type": "stream",
     "text": [
      "Enter the passwords: Password123@,AbC@3,$ecretP@ss\n",
      "Valid passwords: ['Password123@']\n"
     ]
    }
   ],
   "source": [
    "input_string = input(\"Enter the passwords: \")\n",
    "input_list = input_string.split(',')\n",
    "valid_passwords = []\n",
    "\n",
    "for password in input_list:\n",
    "    has_digit = 0\n",
    "    has_lowercase = 0\n",
    "    has_uppercase = 0\n",
    "    has_special = 0\n",
    "    for char in password:\n",
    "        if '0' <= char <= '9':\n",
    "            has_digit = 1\n",
    "        elif 'a' <= char <= 'z':\n",
    "            has_lowercase = 1\n",
    "        elif 'A' <= char <= 'Z':\n",
    "            has_uppercase = 1\n",
    "        elif char in ['@', '#', '$']:\n",
    "            has_special = 1\n",
    "    if len(password)in range(6,13) and has_digit and has_lowercase and has_uppercase and has_special:\n",
    "        valid_passwords.append(password)\n",
    "\n",
    "print(\"Valid passwords:\", valid_passwords)\n"
   ]
  }
 ],
 "metadata": {
  "kernelspec": {
   "display_name": "Python 3 (ipykernel)",
   "language": "python",
   "name": "python3"
  },
  "language_info": {
   "codemirror_mode": {
    "name": "ipython",
    "version": 3
   },
   "file_extension": ".py",
   "mimetype": "text/x-python",
   "name": "python",
   "nbconvert_exporter": "python",
   "pygments_lexer": "ipython3",
   "version": "3.11.4"
  }
 },
 "nbformat": 4,
 "nbformat_minor": 5
}
